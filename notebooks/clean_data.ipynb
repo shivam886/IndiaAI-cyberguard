{
 "cells": [
  {
   "cell_type": "markdown",
   "id": "5d481cfd-1023-4963-aa14-87d6614f50b2",
   "metadata": {},
   "source": [
    "# Data Cleaning"
   ]
  },
  {
   "cell_type": "code",
   "execution_count": 1,
   "id": "a757076b-0988-420c-8a95-9066daf93168",
   "metadata": {
    "scrolled": true
   },
   "outputs": [],
   "source": [
    "# import sys\n",
    "# !{sys.executable} -m pip install -U pip\n",
    "# !{sys.executable} -m pip install -U codeium-jupyter"
   ]
  },
  {
   "cell_type": "code",
   "execution_count": 170,
   "id": "4f12ef5c-9651-4c90-80d5-87ba4cce235e",
   "metadata": {},
   "outputs": [],
   "source": [
    "import pandas as pd\n",
    "from pathlib import Path\n",
    "from pprint import pprint"
   ]
  },
  {
   "cell_type": "code",
   "execution_count": 1,
   "id": "73c0d047-7495-4f37-b8ee-ee44d7a9eeb3",
   "metadata": {},
   "outputs": [],
   "source": [
    "train_data_path = \"../data/train.csv\"\n",
    "test_data_path = \"../data/test.csv\""
   ]
  },
  {
   "cell_type": "code",
   "execution_count": 172,
   "id": "96c359f4-0e1a-4e7d-a41b-df084573f9c9",
   "metadata": {},
   "outputs": [],
   "source": [
    "train_df = pd.read_csv(train_data_path)\n",
    "test_df = pd.read_csv(test_data_path)"
   ]
  },
  {
   "cell_type": "code",
   "execution_count": 173,
   "id": "c7324eb0-0104-493e-87e1-921005ce6a8e",
   "metadata": {},
   "outputs": [
    {
     "name": "stdout",
     "output_type": "stream",
     "text": [
      "(93686, 3)\n"
     ]
    },
    {
     "data": {
      "text/html": [
       "<div>\n",
       "<style scoped>\n",
       "    .dataframe tbody tr th:only-of-type {\n",
       "        vertical-align: middle;\n",
       "    }\n",
       "\n",
       "    .dataframe tbody tr th {\n",
       "        vertical-align: top;\n",
       "    }\n",
       "\n",
       "    .dataframe thead th {\n",
       "        text-align: right;\n",
       "    }\n",
       "</style>\n",
       "<table border=\"1\" class=\"dataframe\">\n",
       "  <thead>\n",
       "    <tr style=\"text-align: right;\">\n",
       "      <th></th>\n",
       "      <th>category</th>\n",
       "      <th>sub_category</th>\n",
       "      <th>crimeaditionalinfo</th>\n",
       "    </tr>\n",
       "  </thead>\n",
       "  <tbody>\n",
       "    <tr>\n",
       "      <th>0</th>\n",
       "      <td>Online and Social Media Related Crime</td>\n",
       "      <td>Cyber Bullying  Stalking  Sexting</td>\n",
       "      <td>I had continue received random calls and abusi...</td>\n",
       "    </tr>\n",
       "    <tr>\n",
       "      <th>1</th>\n",
       "      <td>Online Financial Fraud</td>\n",
       "      <td>Fraud CallVishing</td>\n",
       "      <td>The above fraudster is continuously messaging ...</td>\n",
       "    </tr>\n",
       "    <tr>\n",
       "      <th>2</th>\n",
       "      <td>Online Gambling  Betting</td>\n",
       "      <td>Online Gambling  Betting</td>\n",
       "      <td>He is acting like a police and demanding for m...</td>\n",
       "    </tr>\n",
       "    <tr>\n",
       "      <th>3</th>\n",
       "      <td>Online and Social Media Related Crime</td>\n",
       "      <td>Online Job Fraud</td>\n",
       "      <td>In apna Job I have applied for job interview f...</td>\n",
       "    </tr>\n",
       "    <tr>\n",
       "      <th>4</th>\n",
       "      <td>Online Financial Fraud</td>\n",
       "      <td>Fraud CallVishing</td>\n",
       "      <td>I received a call from lady stating that she w...</td>\n",
       "    </tr>\n",
       "  </tbody>\n",
       "</table>\n",
       "</div>"
      ],
      "text/plain": [
       "                                category                       sub_category  \\\n",
       "0  Online and Social Media Related Crime  Cyber Bullying  Stalking  Sexting   \n",
       "1                 Online Financial Fraud                  Fraud CallVishing   \n",
       "2               Online Gambling  Betting           Online Gambling  Betting   \n",
       "3  Online and Social Media Related Crime                   Online Job Fraud   \n",
       "4                 Online Financial Fraud                  Fraud CallVishing   \n",
       "\n",
       "                                  crimeaditionalinfo  \n",
       "0  I had continue received random calls and abusi...  \n",
       "1  The above fraudster is continuously messaging ...  \n",
       "2  He is acting like a police and demanding for m...  \n",
       "3  In apna Job I have applied for job interview f...  \n",
       "4  I received a call from lady stating that she w...  "
      ]
     },
     "execution_count": 173,
     "metadata": {},
     "output_type": "execute_result"
    }
   ],
   "source": [
    "pprint(train_df.shape)\n",
    "train_df.head()"
   ]
  },
  {
   "cell_type": "code",
   "execution_count": 174,
   "id": "1b5913ad-271e-45b3-981d-02f9bb27edfe",
   "metadata": {},
   "outputs": [
    {
     "name": "stdout",
     "output_type": "stream",
     "text": [
      "(31229, 3)\n"
     ]
    },
    {
     "data": {
      "text/html": [
       "<div>\n",
       "<style scoped>\n",
       "    .dataframe tbody tr th:only-of-type {\n",
       "        vertical-align: middle;\n",
       "    }\n",
       "\n",
       "    .dataframe tbody tr th {\n",
       "        vertical-align: top;\n",
       "    }\n",
       "\n",
       "    .dataframe thead th {\n",
       "        text-align: right;\n",
       "    }\n",
       "</style>\n",
       "<table border=\"1\" class=\"dataframe\">\n",
       "  <thead>\n",
       "    <tr style=\"text-align: right;\">\n",
       "      <th></th>\n",
       "      <th>category</th>\n",
       "      <th>sub_category</th>\n",
       "      <th>crimeaditionalinfo</th>\n",
       "    </tr>\n",
       "  </thead>\n",
       "  <tbody>\n",
       "    <tr>\n",
       "      <th>0</th>\n",
       "      <td>RapeGang Rape RGRSexually Abusive Content</td>\n",
       "      <td>NaN</td>\n",
       "      <td>Sir namaskar  mein Ranjit Kumar PatraPaise neh...</td>\n",
       "    </tr>\n",
       "    <tr>\n",
       "      <th>1</th>\n",
       "      <td>Online Financial Fraud</td>\n",
       "      <td>DebitCredit Card FraudSim Swap Fraud</td>\n",
       "      <td>KOTAK MAHINDRA BANK FRAUD\\r\\nFRAUD AMOUNT</td>\n",
       "    </tr>\n",
       "    <tr>\n",
       "      <th>2</th>\n",
       "      <td>Cyber Attack/ Dependent Crimes</td>\n",
       "      <td>SQL Injection</td>\n",
       "      <td>The issue actually started when I got this ema...</td>\n",
       "    </tr>\n",
       "    <tr>\n",
       "      <th>3</th>\n",
       "      <td>Online Financial Fraud</td>\n",
       "      <td>Fraud CallVishing</td>\n",
       "      <td>I am amit kumar from karwi chitrakoot I am tot...</td>\n",
       "    </tr>\n",
       "    <tr>\n",
       "      <th>4</th>\n",
       "      <td>Any Other Cyber Crime</td>\n",
       "      <td>Other</td>\n",
       "      <td>I have ordered  saree and  blouse from rinki s...</td>\n",
       "    </tr>\n",
       "  </tbody>\n",
       "</table>\n",
       "</div>"
      ],
      "text/plain": [
       "                                    category  \\\n",
       "0  RapeGang Rape RGRSexually Abusive Content   \n",
       "1                     Online Financial Fraud   \n",
       "2             Cyber Attack/ Dependent Crimes   \n",
       "3                     Online Financial Fraud   \n",
       "4                      Any Other Cyber Crime   \n",
       "\n",
       "                           sub_category  \\\n",
       "0                                   NaN   \n",
       "1  DebitCredit Card FraudSim Swap Fraud   \n",
       "2                         SQL Injection   \n",
       "3                     Fraud CallVishing   \n",
       "4                                 Other   \n",
       "\n",
       "                                  crimeaditionalinfo  \n",
       "0  Sir namaskar  mein Ranjit Kumar PatraPaise neh...  \n",
       "1          KOTAK MAHINDRA BANK FRAUD\\r\\nFRAUD AMOUNT  \n",
       "2  The issue actually started when I got this ema...  \n",
       "3  I am amit kumar from karwi chitrakoot I am tot...  \n",
       "4  I have ordered  saree and  blouse from rinki s...  "
      ]
     },
     "execution_count": 174,
     "metadata": {},
     "output_type": "execute_result"
    }
   ],
   "source": [
    "pprint(test_df.shape)\n",
    "test_df.head()"
   ]
  },
  {
   "cell_type": "markdown",
   "id": "365d6278-9597-432b-a651-b2ced12c52da",
   "metadata": {},
   "source": [
    "## EDA"
   ]
  },
  {
   "cell_type": "code",
   "execution_count": 175,
   "id": "315312bc-8f78-42fd-a4b7-edde0f3f4001",
   "metadata": {},
   "outputs": [
    {
     "name": "stdout",
     "output_type": "stream",
     "text": [
      "<class 'pandas.core.frame.DataFrame'>\n",
      "RangeIndex: 93686 entries, 0 to 93685\n",
      "Data columns (total 3 columns):\n",
      " #   Column              Non-Null Count  Dtype \n",
      "---  ------              --------------  ----- \n",
      " 0   category            93686 non-null  object\n",
      " 1   sub_category        87095 non-null  object\n",
      " 2   crimeaditionalinfo  93665 non-null  object\n",
      "dtypes: object(3)\n",
      "memory usage: 2.1+ MB\n"
     ]
    }
   ],
   "source": [
    "train_df.info()"
   ]
  },
  {
   "cell_type": "code",
   "execution_count": 176,
   "id": "6cc555d7-e0f5-4eff-bed5-ac81c3d562d9",
   "metadata": {
    "scrolled": true
   },
   "outputs": [
    {
     "data": {
      "text/html": [
       "<div>\n",
       "<style scoped>\n",
       "    .dataframe tbody tr th:only-of-type {\n",
       "        vertical-align: middle;\n",
       "    }\n",
       "\n",
       "    .dataframe tbody tr th {\n",
       "        vertical-align: top;\n",
       "    }\n",
       "\n",
       "    .dataframe thead th {\n",
       "        text-align: right;\n",
       "    }\n",
       "</style>\n",
       "<table border=\"1\" class=\"dataframe\">\n",
       "  <thead>\n",
       "    <tr style=\"text-align: right;\">\n",
       "      <th></th>\n",
       "      <th>category</th>\n",
       "      <th>sub_category</th>\n",
       "      <th>crimeaditionalinfo</th>\n",
       "    </tr>\n",
       "  </thead>\n",
       "  <tbody>\n",
       "    <tr>\n",
       "      <th>count</th>\n",
       "      <td>93686</td>\n",
       "      <td>87095</td>\n",
       "      <td>93665</td>\n",
       "    </tr>\n",
       "    <tr>\n",
       "      <th>unique</th>\n",
       "      <td>15</td>\n",
       "      <td>35</td>\n",
       "      <td>85013</td>\n",
       "    </tr>\n",
       "    <tr>\n",
       "      <th>top</th>\n",
       "      <td>Online Financial Fraud</td>\n",
       "      <td>UPI Related Frauds</td>\n",
       "      <td>Respected Sir\\r\\n\\r\\nA very serious matter I w...</td>\n",
       "    </tr>\n",
       "    <tr>\n",
       "      <th>freq</th>\n",
       "      <td>57434</td>\n",
       "      <td>26856</td>\n",
       "      <td>2342</td>\n",
       "    </tr>\n",
       "  </tbody>\n",
       "</table>\n",
       "</div>"
      ],
      "text/plain": [
       "                      category        sub_category  \\\n",
       "count                    93686               87095   \n",
       "unique                      15                  35   \n",
       "top     Online Financial Fraud  UPI Related Frauds   \n",
       "freq                     57434               26856   \n",
       "\n",
       "                                       crimeaditionalinfo  \n",
       "count                                               93665  \n",
       "unique                                              85013  \n",
       "top     Respected Sir\\r\\n\\r\\nA very serious matter I w...  \n",
       "freq                                                 2342  "
      ]
     },
     "execution_count": 176,
     "metadata": {},
     "output_type": "execute_result"
    }
   ],
   "source": [
    "train_df.describe()"
   ]
  },
  {
   "cell_type": "markdown",
   "id": "4943a7f2-fb89-48fb-8081-8f8a5eb7212c",
   "metadata": {},
   "source": [
    "### Key Insights from the cybercrime train dataset\n",
    "1. Dataset Size & Structure:\n",
    "   - Total records: 93,686 cases\n",
    "   - 3 columns: category, sub_category, crimeadditionalinfo\n",
    "   - Memory usage: 2.1+ MB\n",
    "\n",
    "2. Data Completeness:\n",
    "   - category: All records present (93,686)\n",
    "   - sub_category: 6,591 missing entries (93,686 - 87,095)\n",
    "   - crimeadditionalinfo: Only 21 missing entries (93,686 - 93,665)\n",
    "\n",
    "3. Categorical Distribution:\n",
    "   - Main categories: 15 unique types\n",
    "   - Sub-categories: 35 unique types\n",
    "   - Most frequent:\n",
    "     * Main category: Online Financial Fraud (57,434 cases, ~61%)\n",
    "     * Sub-category: UPI Related Frauds (26,856 cases, ~31%)\n",
    "\n",
    "4. Additional Information Analysis:\n",
    "   - 85,013 unique descriptions out of 93,665 entries\n",
    "   - Indicates ~8,652 duplicate descriptions\n",
    "   - Most common description appears 2,342 times\n",
    "\n",
    "This suggests a well-structured dataset with high completeness, strong focus on financial crimes, and standardized description patterns for similar cases. The missing sub-category entries might need investigation for data quality improvement."
   ]
  },
  {
   "cell_type": "code",
   "execution_count": 177,
   "id": "4d8a9cc9-c4d0-4646-86ab-15172c45fc7f",
   "metadata": {},
   "outputs": [
    {
     "name": "stdout",
     "output_type": "stream",
     "text": [
      "<class 'pandas.core.frame.DataFrame'>\n",
      "RangeIndex: 31229 entries, 0 to 31228\n",
      "Data columns (total 3 columns):\n",
      " #   Column              Non-Null Count  Dtype \n",
      "---  ------              --------------  ----- \n",
      " 0   category            31229 non-null  object\n",
      " 1   sub_category        28993 non-null  object\n",
      " 2   crimeaditionalinfo  31222 non-null  object\n",
      "dtypes: object(3)\n",
      "memory usage: 732.1+ KB\n"
     ]
    }
   ],
   "source": [
    "test_df.info()"
   ]
  },
  {
   "cell_type": "code",
   "execution_count": 178,
   "id": "35b0a971-d349-41a0-b82d-7ddbcff1a716",
   "metadata": {
    "scrolled": true
   },
   "outputs": [
    {
     "data": {
      "text/html": [
       "<div>\n",
       "<style scoped>\n",
       "    .dataframe tbody tr th:only-of-type {\n",
       "        vertical-align: middle;\n",
       "    }\n",
       "\n",
       "    .dataframe tbody tr th {\n",
       "        vertical-align: top;\n",
       "    }\n",
       "\n",
       "    .dataframe thead th {\n",
       "        text-align: right;\n",
       "    }\n",
       "</style>\n",
       "<table border=\"1\" class=\"dataframe\">\n",
       "  <thead>\n",
       "    <tr style=\"text-align: right;\">\n",
       "      <th></th>\n",
       "      <th>category</th>\n",
       "      <th>sub_category</th>\n",
       "      <th>crimeaditionalinfo</th>\n",
       "    </tr>\n",
       "  </thead>\n",
       "  <tbody>\n",
       "    <tr>\n",
       "      <th>count</th>\n",
       "      <td>31229</td>\n",
       "      <td>28993</td>\n",
       "      <td>31222</td>\n",
       "    </tr>\n",
       "    <tr>\n",
       "      <th>unique</th>\n",
       "      <td>15</td>\n",
       "      <td>37</td>\n",
       "      <td>28785</td>\n",
       "    </tr>\n",
       "    <tr>\n",
       "      <th>top</th>\n",
       "      <td>Online Financial Fraud</td>\n",
       "      <td>UPI Related Frauds</td>\n",
       "      <td>Respected Sir\\r\\n\\r\\nA very serious matter I w...</td>\n",
       "    </tr>\n",
       "    <tr>\n",
       "      <th>freq</th>\n",
       "      <td>18896</td>\n",
       "      <td>8890</td>\n",
       "      <td>753</td>\n",
       "    </tr>\n",
       "  </tbody>\n",
       "</table>\n",
       "</div>"
      ],
      "text/plain": [
       "                      category        sub_category  \\\n",
       "count                    31229               28993   \n",
       "unique                      15                  37   \n",
       "top     Online Financial Fraud  UPI Related Frauds   \n",
       "freq                     18896                8890   \n",
       "\n",
       "                                       crimeaditionalinfo  \n",
       "count                                               31222  \n",
       "unique                                              28785  \n",
       "top     Respected Sir\\r\\n\\r\\nA very serious matter I w...  \n",
       "freq                                                  753  "
      ]
     },
     "execution_count": 178,
     "metadata": {},
     "output_type": "execute_result"
    }
   ],
   "source": [
    "test_df.describe()"
   ]
  },
  {
   "cell_type": "markdown",
   "id": "92f2ce9d-fd34-4385-8f16-c958c8263172",
   "metadata": {},
   "source": [
    "### Key Insights from the cybercrime test dataset\n",
    "\n",
    "1. Dataset Size & Structure:\n",
    "   - Total records: 31,229 cases (roughly 1/3 of training set)\n",
    "   - 3 columns: same structure as training data\n",
    "   - Memory usage: 732.1+ KB\n",
    "\n",
    "2. Data Completeness:\n",
    "   - category: All records present (31,229)\n",
    "   - sub_category: 2,236 missing entries (31,229 - 28,993)\n",
    "   - crimeadditionalinfo: Only 7 missing entries (31,229 - 31,222)\n",
    "\n",
    "3. Categorical Distribution:\n",
    "   - Main categories: 15 unique types (same as training)\n",
    "   - Sub-categories: 37 unique types (2 more than training)\n",
    "   - Most frequent:\n",
    "     * Main category: Online Financial Fraud (18,896 cases, ~60.5%)\n",
    "     * Sub-category: UPI Related Frauds (8,890 cases, ~28.5%)\n",
    "\n",
    "4. Additional Information Analysis:\n",
    "   - 28,785 unique descriptions out of 31,222 entries\n",
    "   - Indicates ~2,437 duplicate descriptions\n",
    "   - Most common description appears 753 times\n",
    "\n",
    "Key Comparisons to Training Data:\n",
    "- Maintains similar proportions of financial fraud cases\n",
    "- Similar data completeness patterns\n",
    "- Slightly higher proportion of unique descriptions\n",
    "- Smaller but representative sample of the main dataset"
   ]
  },
  {
   "cell_type": "code",
   "execution_count": 179,
   "id": "42ba9004",
   "metadata": {},
   "outputs": [
    {
     "name": "stdout",
     "output_type": "stream",
     "text": [
      "#################### PERCENTAGE-WISE #################### \n",
      "\n",
      "category\n",
      "Online Financial Fraud                                  61.304784\n",
      "Online and Social Media Related Crime                   12.958179\n",
      "Any Other Cyber Crime                                   11.611127\n",
      "Cyber Attack/ Dependent Crimes                           3.851162\n",
      "RapeGang Rape RGRSexually Abusive Content                3.012190\n",
      "Sexually Obscene material                                1.961873\n",
      "Hacking  Damage to computercomputer system etc           1.825246\n",
      "Sexually Explicit Act                                    1.656598\n",
      "Cryptocurrency Crime                                     0.512350\n",
      "Online Gambling  Betting                                 0.473924\n",
      "Child Pornography CPChild Sexual Abuse Material CSAM     0.404543\n",
      "Online Cyber Trafficking                                 0.195333\n",
      "Cyber Terrorism                                          0.171851\n",
      "Ransomware                                               0.059774\n",
      "Report Unlawful Content                                  0.001067\n",
      "Name: proportion, dtype: float64\n"
     ]
    }
   ],
   "source": [
    "print(\"#\"*20,\"PERCENTAGE-WISE\",\"#\"*20,\"\\n\")\n",
    "pprint(train_df[\"category\"].value_counts(normalize=True) * 100)"
   ]
  },
  {
   "cell_type": "code",
   "execution_count": 180,
   "id": "8f130080",
   "metadata": {},
   "outputs": [
    {
     "name": "stdout",
     "output_type": "stream",
     "text": [
      "\n",
      " #################### NUMERICAL-WISE #################### \n",
      "\n",
      "sub_category\n",
      "UPI Related Frauds                                                      30.835295\n",
      "Other                                                                   12.489810\n",
      "DebitCredit Card FraudSim Swap Fraud                                    12.405993\n",
      "Internet Banking Related Fraud                                          10.186578\n",
      "Fraud CallVishing                                                        6.662839\n",
      "Cyber Bullying  Stalking  Sexting                                        4.694873\n",
      "EWallet Related Fraud                                                    4.646650\n",
      "FakeImpersonating Profile                                                2.639646\n",
      "Profile Hacking Identity Theft                                           2.380160\n",
      "Cheating by Impersonation                                                2.282565\n",
      "Unauthorised AccessData Breach                                           1.279063\n",
      "Online Job Fraud                                                         1.047132\n",
      "DematDepository Fraud                                                    0.873759\n",
      "Tampering with computer source documents                                 0.651013\n",
      "Hacking/Defacement                                                       0.620013\n",
      "Ransomware Attack                                                        0.613124\n",
      "Malware Attack                                                           0.598197\n",
      "SQL Injection                                                            0.583271\n",
      "Denial of Service (DoS)/Distributed Denial of Service (DDOS) attacks     0.578678\n",
      "Data Breach/Theft                                                        0.555715\n",
      "Cryptocurrency Fraud                                                     0.551122\n",
      "Online Gambling  Betting                                                 0.509788\n",
      "Provocative Speech for unlawful acts                                     0.478788\n",
      "Email Hacking                                                            0.400712\n",
      "Business Email CompromiseEmail Takeover                                  0.332970\n",
      "Online Trafficking                                                       0.210115\n",
      "Cyber Terrorism                                                          0.184856\n",
      "EMail Phishing                                                           0.180263\n",
      "Online Matrimonial Fraud                                                 0.151559\n",
      "Damage to computer computer systems etc                                  0.124003\n",
      "Website DefacementHacking                                                0.102187\n",
      "Ransomware                                                               0.064298\n",
      "Impersonating Email                                                      0.050520\n",
      "Intimidating Email                                                       0.033297\n",
      "Against Interest of sovereignty or integrity of India                    0.001148\n",
      "Name: proportion, dtype: float64\n"
     ]
    }
   ],
   "source": [
    "print(\"\\n\",\"#\"*20,\"NUMERICAL-WISE\",\"#\"*20,\"\\n\")\n",
    "pprint(train_df[\"sub_category\"].value_counts(normalize=True) * 100)"
   ]
  },
  {
   "cell_type": "code",
   "execution_count": 181,
   "id": "53789ddb-fb24-4c79-ac06-5d060220c4c4",
   "metadata": {},
   "outputs": [
    {
     "name": "stdout",
     "output_type": "stream",
     "text": [
      "#################### PERCENTAGE-WISE #################### \n",
      "\n",
      "category\n",
      "Online Financial Fraud                                  61.304784\n",
      "Online and Social Media Related Crime                   12.958179\n",
      "Any Other Cyber Crime                                   11.611127\n",
      "Cyber Attack/ Dependent Crimes                           3.851162\n",
      "RapeGang Rape RGRSexually Abusive Content                3.012190\n",
      "Sexually Obscene material                                1.961873\n",
      "Hacking  Damage to computercomputer system etc           1.825246\n",
      "Sexually Explicit Act                                    1.656598\n",
      "Cryptocurrency Crime                                     0.512350\n",
      "Online Gambling  Betting                                 0.473924\n",
      "Child Pornography CPChild Sexual Abuse Material CSAM     0.404543\n",
      "Online Cyber Trafficking                                 0.195333\n",
      "Cyber Terrorism                                          0.171851\n",
      "Ransomware                                               0.059774\n",
      "Report Unlawful Content                                  0.001067\n",
      "Name: proportion, dtype: float64\n",
      "\n",
      " #################### NUMERICAL-WISE #################### \n",
      "\n",
      "category\n",
      "Online Financial Fraud                                  61.304784\n",
      "Online and Social Media Related Crime                   12.958179\n",
      "Any Other Cyber Crime                                   11.611127\n",
      "Cyber Attack/ Dependent Crimes                           3.851162\n",
      "RapeGang Rape RGRSexually Abusive Content                3.012190\n",
      "Sexually Obscene material                                1.961873\n",
      "Hacking  Damage to computercomputer system etc           1.825246\n",
      "Sexually Explicit Act                                    1.656598\n",
      "Cryptocurrency Crime                                     0.512350\n",
      "Online Gambling  Betting                                 0.473924\n",
      "Child Pornography CPChild Sexual Abuse Material CSAM     0.404543\n",
      "Online Cyber Trafficking                                 0.195333\n",
      "Cyber Terrorism                                          0.171851\n",
      "Ransomware                                               0.059774\n",
      "Report Unlawful Content                                  0.001067\n",
      "Name: proportion, dtype: float64\n"
     ]
    }
   ],
   "source": [
    "print(\"#\"*20,\"PERCENTAGE-WISE\",\"#\"*20,\"\\n\")\n",
    "pprint(train_df[\"category\"].value_counts(normalize=True) * 100)\n",
    "print(\"\\n\",\"#\"*20,\"NUMERICAL-WISE\",\"#\"*20,\"\\n\")\n",
    "pprint(train_df[\"category\"].value_counts(normalize=True) * 100)"
   ]
  },
  {
   "cell_type": "code",
   "execution_count": 182,
   "id": "f9671801-1beb-49e5-b083-f6b87120cf0a",
   "metadata": {},
   "outputs": [
    {
     "name": "stdout",
     "output_type": "stream",
     "text": [
      "#################### PERCENTAGE-WISE #################### \n",
      "\n",
      "sub_category\n",
      "UPI Related Frauds                                                      30.662574\n",
      "Other                                                                   12.658228\n",
      "DebitCredit Card FraudSim Swap Fraud                                    12.265029\n",
      "Internet Banking Related Fraud                                          10.254199\n",
      "Fraud CallVishing                                                        6.301521\n",
      "Cyber Bullying  Stalking  Sexting                                        4.711482\n",
      "EWallet Related Fraud                                                    4.614907\n",
      "FakeImpersonating Profile                                                2.631670\n",
      "Profile Hacking Identity Theft                                           2.590280\n",
      "Cheating by Impersonation                                                2.479909\n",
      "Unauthorised AccessData Breach                                           1.276170\n",
      "Online Job Fraud                                                         1.014038\n",
      "DematDepository Fraud                                                    0.765702\n",
      "Hacking/Defacement                                                       0.689822\n",
      "Tampering with computer source documents                                 0.669127\n",
      "Denial of Service (DoS)/Distributed Denial of Service (DDOS) attacks     0.644983\n",
      "Ransomware Attack                                                        0.641534\n",
      "Data Breach/Theft                                                        0.589798\n",
      "Malware Attack                                                           0.586348\n",
      "SQL Injection                                                            0.576001\n",
      "Cryptocurrency Fraud                                                     0.572552\n",
      "Online Gambling  Betting                                                 0.462181\n",
      "Provocative Speech for unlawful acts                                     0.448384\n",
      "Email Hacking                                                            0.448384\n",
      "Business Email CompromiseEmail Takeover                                  0.310420\n",
      "Online Trafficking                                                       0.210396\n",
      "EMail Phishing                                                           0.186252\n",
      "Cyber Terrorism                                                          0.179354\n",
      "Damage to computer computer systems etc                                  0.134515\n",
      "Website DefacementHacking                                                0.134515\n",
      "Online Matrimonial Fraud                                                 0.131066\n",
      "Ransomware                                                               0.062084\n",
      "Impersonating Email                                                      0.044838\n",
      "Intimidating Email                                                       0.037940\n",
      "Computer Generated CSAM/CSEM                                             0.006898\n",
      "Cyber Blackmailing & Threatening                                         0.003449\n",
      "Sexual Harassment                                                        0.003449\n",
      "Name: proportion, dtype: float64\n",
      "\n",
      " #################### NUMERICAL-WISE #################### \n",
      "\n",
      "sub_category\n",
      "UPI Related Frauds                                                      0.306626\n",
      "Other                                                                   0.126582\n",
      "DebitCredit Card FraudSim Swap Fraud                                    0.122650\n",
      "Internet Banking Related Fraud                                          0.102542\n",
      "Fraud CallVishing                                                       0.063015\n",
      "Cyber Bullying  Stalking  Sexting                                       0.047115\n",
      "EWallet Related Fraud                                                   0.046149\n",
      "FakeImpersonating Profile                                               0.026317\n",
      "Profile Hacking Identity Theft                                          0.025903\n",
      "Cheating by Impersonation                                               0.024799\n",
      "Unauthorised AccessData Breach                                          0.012762\n",
      "Online Job Fraud                                                        0.010140\n",
      "DematDepository Fraud                                                   0.007657\n",
      "Hacking/Defacement                                                      0.006898\n",
      "Tampering with computer source documents                                0.006691\n",
      "Denial of Service (DoS)/Distributed Denial of Service (DDOS) attacks    0.006450\n",
      "Ransomware Attack                                                       0.006415\n",
      "Data Breach/Theft                                                       0.005898\n",
      "Malware Attack                                                          0.005863\n",
      "SQL Injection                                                           0.005760\n",
      "Cryptocurrency Fraud                                                    0.005726\n",
      "Online Gambling  Betting                                                0.004622\n",
      "Provocative Speech for unlawful acts                                    0.004484\n",
      "Email Hacking                                                           0.004484\n",
      "Business Email CompromiseEmail Takeover                                 0.003104\n",
      "Online Trafficking                                                      0.002104\n",
      "EMail Phishing                                                          0.001863\n",
      "Cyber Terrorism                                                         0.001794\n",
      "Damage to computer computer systems etc                                 0.001345\n",
      "Website DefacementHacking                                               0.001345\n",
      "Online Matrimonial Fraud                                                0.001311\n",
      "Ransomware                                                              0.000621\n",
      "Impersonating Email                                                     0.000448\n",
      "Intimidating Email                                                      0.000379\n",
      "Computer Generated CSAM/CSEM                                            0.000069\n",
      "Cyber Blackmailing & Threatening                                        0.000034\n",
      "Sexual Harassment                                                       0.000034\n",
      "Name: proportion, dtype: float64\n"
     ]
    }
   ],
   "source": [
    "print(\"#\"*20,\"PERCENTAGE-WISE\",\"#\"*20,\"\\n\")\n",
    "pprint(test_df[\"sub_category\"].value_counts(normalize=True) * 100)\n",
    "print(\"\\n\",\"#\"*20,\"NUMERICAL-WISE\",\"#\"*20,\"\\n\")\n",
    "pprint(test_df[\"sub_category\"].value_counts(normalize=True))"
   ]
  },
  {
   "cell_type": "markdown",
   "id": "87af633d-09ee-4dff-8828-76760c4e9c4b",
   "metadata": {},
   "source": [
    "## Check Null Values"
   ]
  },
  {
   "cell_type": "code",
   "execution_count": 183,
   "id": "732f6526-c309-4ecf-9ce1-1af3d1491724",
   "metadata": {},
   "outputs": [
    {
     "data": {
      "text/plain": [
       "category                 0\n",
       "sub_category          6591\n",
       "crimeaditionalinfo      21\n",
       "dtype: int64"
      ]
     },
     "execution_count": 183,
     "metadata": {},
     "output_type": "execute_result"
    }
   ],
   "source": [
    "train_df.isnull().sum()"
   ]
  },
  {
   "cell_type": "code",
   "execution_count": 184,
   "id": "42175d31-9171-4021-a140-0911355a8de0",
   "metadata": {},
   "outputs": [
    {
     "data": {
      "text/html": [
       "<div>\n",
       "<style scoped>\n",
       "    .dataframe tbody tr th:only-of-type {\n",
       "        vertical-align: middle;\n",
       "    }\n",
       "\n",
       "    .dataframe tbody tr th {\n",
       "        vertical-align: top;\n",
       "    }\n",
       "\n",
       "    .dataframe thead th {\n",
       "        text-align: right;\n",
       "    }\n",
       "</style>\n",
       "<table border=\"1\" class=\"dataframe\">\n",
       "  <thead>\n",
       "    <tr style=\"text-align: right;\">\n",
       "      <th></th>\n",
       "      <th>category</th>\n",
       "      <th>sub_category</th>\n",
       "      <th>crimeaditionalinfo</th>\n",
       "    </tr>\n",
       "  </thead>\n",
       "  <tbody>\n",
       "    <tr>\n",
       "      <th>8</th>\n",
       "      <td>RapeGang Rape RGRSexually Abusive Content</td>\n",
       "      <td>NaN</td>\n",
       "      <td>I got the message on Whatsapp to my number The...</td>\n",
       "    </tr>\n",
       "    <tr>\n",
       "      <th>25</th>\n",
       "      <td>RapeGang Rape RGRSexually Abusive Content</td>\n",
       "      <td>NaN</td>\n",
       "      <td>Respected Sir\\r\\n\\r\\nA very serious matter I w...</td>\n",
       "    </tr>\n",
       "    <tr>\n",
       "      <th>39</th>\n",
       "      <td>Sexually Explicit Act</td>\n",
       "      <td>NaN</td>\n",
       "      <td>httpswwwxnxxtvvideousapbfuckkkarrr\\r\\n\\r\\n Abo...</td>\n",
       "    </tr>\n",
       "    <tr>\n",
       "      <th>45</th>\n",
       "      <td>Sexually Obscene material</td>\n",
       "      <td>NaN</td>\n",
       "      <td>Many fake accounts are created and Im sufferin...</td>\n",
       "    </tr>\n",
       "    <tr>\n",
       "      <th>49</th>\n",
       "      <td>Sexually Explicit Act</td>\n",
       "      <td>NaN</td>\n",
       "      <td>SirMaam \\r\\nThis is my third report on this re...</td>\n",
       "    </tr>\n",
       "    <tr>\n",
       "      <th>...</th>\n",
       "      <td>...</td>\n",
       "      <td>...</td>\n",
       "      <td>...</td>\n",
       "    </tr>\n",
       "    <tr>\n",
       "      <th>93632</th>\n",
       "      <td>Sexually Explicit Act</td>\n",
       "      <td>NaN</td>\n",
       "      <td>ob cash                                     ...</td>\n",
       "    </tr>\n",
       "    <tr>\n",
       "      <th>93648</th>\n",
       "      <td>Sexually Explicit Act</td>\n",
       "      <td>NaN</td>\n",
       "      <td>I got fraud by atm exchange in union bank of i...</td>\n",
       "    </tr>\n",
       "    <tr>\n",
       "      <th>93653</th>\n",
       "      <td>RapeGang Rape RGRSexually Abusive Content</td>\n",
       "      <td>NaN</td>\n",
       "      <td>Respected Sir\\r\\n\\r\\nA very serious matter I w...</td>\n",
       "    </tr>\n",
       "    <tr>\n",
       "      <th>93667</th>\n",
       "      <td>RapeGang Rape RGRSexually Abusive Content</td>\n",
       "      <td>NaN</td>\n",
       "      <td>Respected Sir\\r\\n\\r\\nA very serious matter I w...</td>\n",
       "    </tr>\n",
       "    <tr>\n",
       "      <th>93678</th>\n",
       "      <td>RapeGang Rape RGRSexually Abusive Content</td>\n",
       "      <td>NaN</td>\n",
       "      <td>Respected Sir\\r\\n\\r\\nA very serious matter I w...</td>\n",
       "    </tr>\n",
       "  </tbody>\n",
       "</table>\n",
       "<p>6612 rows × 3 columns</p>\n",
       "</div>"
      ],
      "text/plain": [
       "                                        category sub_category  \\\n",
       "8      RapeGang Rape RGRSexually Abusive Content          NaN   \n",
       "25     RapeGang Rape RGRSexually Abusive Content          NaN   \n",
       "39                         Sexually Explicit Act          NaN   \n",
       "45                     Sexually Obscene material          NaN   \n",
       "49                         Sexually Explicit Act          NaN   \n",
       "...                                          ...          ...   \n",
       "93632                      Sexually Explicit Act          NaN   \n",
       "93648                      Sexually Explicit Act          NaN   \n",
       "93653  RapeGang Rape RGRSexually Abusive Content          NaN   \n",
       "93667  RapeGang Rape RGRSexually Abusive Content          NaN   \n",
       "93678  RapeGang Rape RGRSexually Abusive Content          NaN   \n",
       "\n",
       "                                      crimeaditionalinfo  \n",
       "8      I got the message on Whatsapp to my number The...  \n",
       "25     Respected Sir\\r\\n\\r\\nA very serious matter I w...  \n",
       "39     httpswwwxnxxtvvideousapbfuckkkarrr\\r\\n\\r\\n Abo...  \n",
       "45     Many fake accounts are created and Im sufferin...  \n",
       "49     SirMaam \\r\\nThis is my third report on this re...  \n",
       "...                                                  ...  \n",
       "93632    ob cash                                     ...  \n",
       "93648  I got fraud by atm exchange in union bank of i...  \n",
       "93653  Respected Sir\\r\\n\\r\\nA very serious matter I w...  \n",
       "93667  Respected Sir\\r\\n\\r\\nA very serious matter I w...  \n",
       "93678  Respected Sir\\r\\n\\r\\nA very serious matter I w...  \n",
       "\n",
       "[6612 rows x 3 columns]"
      ]
     },
     "execution_count": 184,
     "metadata": {},
     "output_type": "execute_result"
    }
   ],
   "source": [
    "null_rows = train_df[train_df.isnull().any(axis=1)]\n",
    "null_rows"
   ]
  },
  {
   "cell_type": "code",
   "execution_count": 185,
   "id": "5fb9beed-c400-4254-b455-2a7f74a69a4b",
   "metadata": {},
   "outputs": [],
   "source": [
    "train_df.dropna(inplace=True)"
   ]
  },
  {
   "cell_type": "code",
   "execution_count": 186,
   "id": "ca4244fa-b7fe-4d5e-bd32-ec0f3ccf30c3",
   "metadata": {},
   "outputs": [
    {
     "data": {
      "text/plain": [
       "category              0\n",
       "sub_category          0\n",
       "crimeaditionalinfo    0\n",
       "dtype: int64"
      ]
     },
     "execution_count": 186,
     "metadata": {},
     "output_type": "execute_result"
    }
   ],
   "source": [
    "train_df.isnull().sum()"
   ]
  },
  {
   "cell_type": "code",
   "execution_count": 187,
   "id": "7d982f4c-ade4-4afb-b2bd-c64a6e88e4c0",
   "metadata": {},
   "outputs": [
    {
     "data": {
      "text/html": [
       "<div>\n",
       "<style scoped>\n",
       "    .dataframe tbody tr th:only-of-type {\n",
       "        vertical-align: middle;\n",
       "    }\n",
       "\n",
       "    .dataframe tbody tr th {\n",
       "        vertical-align: top;\n",
       "    }\n",
       "\n",
       "    .dataframe thead th {\n",
       "        text-align: right;\n",
       "    }\n",
       "</style>\n",
       "<table border=\"1\" class=\"dataframe\">\n",
       "  <thead>\n",
       "    <tr style=\"text-align: right;\">\n",
       "      <th></th>\n",
       "      <th>category</th>\n",
       "      <th>sub_category</th>\n",
       "      <th>crimeaditionalinfo</th>\n",
       "    </tr>\n",
       "  </thead>\n",
       "  <tbody>\n",
       "    <tr>\n",
       "      <th>58044</th>\n",
       "      <td>Online Financial Fraud</td>\n",
       "      <td>UPI Related Frauds</td>\n",
       "      <td>\\tupi fraud</td>\n",
       "    </tr>\n",
       "    <tr>\n",
       "      <th>74976</th>\n",
       "      <td>Online Financial Fraud</td>\n",
       "      <td>UPI Related Frauds</td>\n",
       "      <td>\\tupi fraud</td>\n",
       "    </tr>\n",
       "    <tr>\n",
       "      <th>91912</th>\n",
       "      <td>Online Financial Fraud</td>\n",
       "      <td>UPI Related Frauds</td>\n",
       "      <td>\\tupi fraud</td>\n",
       "    </tr>\n",
       "    <tr>\n",
       "      <th>75905</th>\n",
       "      <td>Online Financial Fraud</td>\n",
       "      <td>UPI Related Frauds</td>\n",
       "      <td>\\r\\n\\r\\n  Dear sir\\r\\n        Please stop the ...</td>\n",
       "    </tr>\n",
       "    <tr>\n",
       "      <th>75567</th>\n",
       "      <td>Online Financial Fraud</td>\n",
       "      <td>UPI Related Frauds</td>\n",
       "      <td>\\r\\n  Dear sir\\r\\n        Please stop the frau...</td>\n",
       "    </tr>\n",
       "    <tr>\n",
       "      <th>...</th>\n",
       "      <td>...</td>\n",
       "      <td>...</td>\n",
       "      <td>...</td>\n",
       "    </tr>\n",
       "    <tr>\n",
       "      <th>46246</th>\n",
       "      <td>Online Financial Fraud</td>\n",
       "      <td>UPI Related Frauds</td>\n",
       "      <td>upi fraud total amount</td>\n",
       "    </tr>\n",
       "    <tr>\n",
       "      <th>58500</th>\n",
       "      <td>Online Financial Fraud</td>\n",
       "      <td>UPI Related Frauds</td>\n",
       "      <td>upi related fraud</td>\n",
       "    </tr>\n",
       "    <tr>\n",
       "      <th>8812</th>\n",
       "      <td>Online Financial Fraud</td>\n",
       "      <td>UPI Related Frauds</td>\n",
       "      <td>upi transactions</td>\n",
       "    </tr>\n",
       "    <tr>\n",
       "      <th>10562</th>\n",
       "      <td>Online Financial Fraud</td>\n",
       "      <td>UPI Related Frauds</td>\n",
       "      <td>upi transactions</td>\n",
       "    </tr>\n",
       "    <tr>\n",
       "      <th>50842</th>\n",
       "      <td>Online Financial Fraud</td>\n",
       "      <td>UPI Related Frauds</td>\n",
       "      <td>upi transactions</td>\n",
       "    </tr>\n",
       "  </tbody>\n",
       "</table>\n",
       "<p>5056 rows × 3 columns</p>\n",
       "</div>"
      ],
      "text/plain": [
       "                     category        sub_category  \\\n",
       "58044  Online Financial Fraud  UPI Related Frauds   \n",
       "74976  Online Financial Fraud  UPI Related Frauds   \n",
       "91912  Online Financial Fraud  UPI Related Frauds   \n",
       "75905  Online Financial Fraud  UPI Related Frauds   \n",
       "75567  Online Financial Fraud  UPI Related Frauds   \n",
       "...                       ...                 ...   \n",
       "46246  Online Financial Fraud  UPI Related Frauds   \n",
       "58500  Online Financial Fraud  UPI Related Frauds   \n",
       "8812   Online Financial Fraud  UPI Related Frauds   \n",
       "10562  Online Financial Fraud  UPI Related Frauds   \n",
       "50842  Online Financial Fraud  UPI Related Frauds   \n",
       "\n",
       "                                      crimeaditionalinfo  \n",
       "58044                                        \\tupi fraud  \n",
       "74976                                        \\tupi fraud  \n",
       "91912                                        \\tupi fraud  \n",
       "75905  \\r\\n\\r\\n  Dear sir\\r\\n        Please stop the ...  \n",
       "75567  \\r\\n  Dear sir\\r\\n        Please stop the frau...  \n",
       "...                                                  ...  \n",
       "46246                           upi fraud total amount    \n",
       "58500                                  upi related fraud  \n",
       "8812                                    upi transactions  \n",
       "10562                                   upi transactions  \n",
       "50842                                   upi transactions  \n",
       "\n",
       "[5056 rows x 3 columns]"
      ]
     },
     "execution_count": 187,
     "metadata": {},
     "output_type": "execute_result"
    }
   ],
   "source": [
    "train_df[train_df.duplicated()].sort_values(by=[\"crimeaditionalinfo\", \"sub_category\", \"category\"])"
   ]
  },
  {
   "cell_type": "code",
   "execution_count": 188,
   "id": "8fabdd0c-834f-4c34-8355-f589417404d7",
   "metadata": {},
   "outputs": [
    {
     "data": {
      "text/plain": [
       "category                                         Online Financial Fraud\n",
       "sub_category                                         UPI Related Frauds\n",
       "crimeaditionalinfo    Dear sir\\r\\n        Please stop the fraudulent...\n",
       "Name: 224, dtype: object"
      ]
     },
     "execution_count": 188,
     "metadata": {},
     "output_type": "execute_result"
    }
   ],
   "source": [
    "train_df.loc[224]"
   ]
  },
  {
   "cell_type": "code",
   "execution_count": 189,
   "id": "e0ee0bab-25ee-46e1-afa2-77d261d170d2",
   "metadata": {},
   "outputs": [
    {
     "data": {
      "text/plain": [
       "category                                         Online Financial Fraud\n",
       "sub_category                                         UPI Related Frauds\n",
       "crimeaditionalinfo    Dear sir\\r\\n        Please stop the fraudulent...\n",
       "Name: 399, dtype: object"
      ]
     },
     "execution_count": 189,
     "metadata": {},
     "output_type": "execute_result"
    }
   ],
   "source": [
    "train_df.loc[399]"
   ]
  },
  {
   "cell_type": "code",
   "execution_count": 190,
   "id": "53a64b42-30d8-4ef6-b1ed-b7c7ba16439d",
   "metadata": {},
   "outputs": [],
   "source": [
    "train_df.drop_duplicates(inplace=True)"
   ]
  },
  {
   "cell_type": "code",
   "execution_count": 191,
   "id": "ff1e2bea-a63f-4d04-b661-786fa6cabf69",
   "metadata": {},
   "outputs": [
    {
     "data": {
      "text/html": [
       "<div>\n",
       "<style scoped>\n",
       "    .dataframe tbody tr th:only-of-type {\n",
       "        vertical-align: middle;\n",
       "    }\n",
       "\n",
       "    .dataframe tbody tr th {\n",
       "        vertical-align: top;\n",
       "    }\n",
       "\n",
       "    .dataframe thead th {\n",
       "        text-align: right;\n",
       "    }\n",
       "</style>\n",
       "<table border=\"1\" class=\"dataframe\">\n",
       "  <thead>\n",
       "    <tr style=\"text-align: right;\">\n",
       "      <th></th>\n",
       "      <th>category</th>\n",
       "      <th>sub_category</th>\n",
       "      <th>crimeaditionalinfo</th>\n",
       "    </tr>\n",
       "  </thead>\n",
       "  <tbody>\n",
       "  </tbody>\n",
       "</table>\n",
       "</div>"
      ],
      "text/plain": [
       "Empty DataFrame\n",
       "Columns: [category, sub_category, crimeaditionalinfo]\n",
       "Index: []"
      ]
     },
     "execution_count": 191,
     "metadata": {},
     "output_type": "execute_result"
    }
   ],
   "source": [
    "train_df[train_df.duplicated()]"
   ]
  },
  {
   "cell_type": "code",
   "execution_count": 192,
   "id": "0fc72557",
   "metadata": {},
   "outputs": [
    {
     "data": {
      "text/html": [
       "<div>\n",
       "<style scoped>\n",
       "    .dataframe tbody tr th:only-of-type {\n",
       "        vertical-align: middle;\n",
       "    }\n",
       "\n",
       "    .dataframe tbody tr th {\n",
       "        vertical-align: top;\n",
       "    }\n",
       "\n",
       "    .dataframe thead th {\n",
       "        text-align: right;\n",
       "    }\n",
       "</style>\n",
       "<table border=\"1\" class=\"dataframe\">\n",
       "  <thead>\n",
       "    <tr style=\"text-align: right;\">\n",
       "      <th></th>\n",
       "      <th>category</th>\n",
       "      <th>sub_category</th>\n",
       "      <th>crimeaditionalinfo</th>\n",
       "      <th>Words per CrimeAditionalInfo</th>\n",
       "    </tr>\n",
       "  </thead>\n",
       "  <tbody>\n",
       "    <tr>\n",
       "      <th>0</th>\n",
       "      <td>Online and Social Media Related Crime</td>\n",
       "      <td>Cyber Bullying  Stalking  Sexting</td>\n",
       "      <td>I had continue received random calls and abusi...</td>\n",
       "      <td>46</td>\n",
       "    </tr>\n",
       "    <tr>\n",
       "      <th>1</th>\n",
       "      <td>Online Financial Fraud</td>\n",
       "      <td>Fraud CallVishing</td>\n",
       "      <td>The above fraudster is continuously messaging ...</td>\n",
       "      <td>45</td>\n",
       "    </tr>\n",
       "    <tr>\n",
       "      <th>2</th>\n",
       "      <td>Online Gambling  Betting</td>\n",
       "      <td>Online Gambling  Betting</td>\n",
       "      <td>He is acting like a police and demanding for m...</td>\n",
       "      <td>40</td>\n",
       "    </tr>\n",
       "    <tr>\n",
       "      <th>3</th>\n",
       "      <td>Online and Social Media Related Crime</td>\n",
       "      <td>Online Job Fraud</td>\n",
       "      <td>In apna Job I have applied for job interview f...</td>\n",
       "      <td>98</td>\n",
       "    </tr>\n",
       "    <tr>\n",
       "      <th>4</th>\n",
       "      <td>Online Financial Fraud</td>\n",
       "      <td>Fraud CallVishing</td>\n",
       "      <td>I received a call from lady stating that she w...</td>\n",
       "      <td>37</td>\n",
       "    </tr>\n",
       "  </tbody>\n",
       "</table>\n",
       "</div>"
      ],
      "text/plain": [
       "                                category                       sub_category  \\\n",
       "0  Online and Social Media Related Crime  Cyber Bullying  Stalking  Sexting   \n",
       "1                 Online Financial Fraud                  Fraud CallVishing   \n",
       "2               Online Gambling  Betting           Online Gambling  Betting   \n",
       "3  Online and Social Media Related Crime                   Online Job Fraud   \n",
       "4                 Online Financial Fraud                  Fraud CallVishing   \n",
       "\n",
       "                                  crimeaditionalinfo  \\\n",
       "0  I had continue received random calls and abusi...   \n",
       "1  The above fraudster is continuously messaging ...   \n",
       "2  He is acting like a police and demanding for m...   \n",
       "3  In apna Job I have applied for job interview f...   \n",
       "4  I received a call from lady stating that she w...   \n",
       "\n",
       "   Words per CrimeAditionalInfo  \n",
       "0                            46  \n",
       "1                            45  \n",
       "2                            40  \n",
       "3                            98  \n",
       "4                            37  "
      ]
     },
     "execution_count": 192,
     "metadata": {},
     "output_type": "execute_result"
    }
   ],
   "source": [
    "train_df[\"Words per CrimeAditionalInfo\"] = train_df[\"crimeaditionalinfo\"].str.split().apply(len)\n",
    "train_df.head()"
   ]
  },
  {
   "cell_type": "code",
   "execution_count": 193,
   "id": "bb87042c",
   "metadata": {},
   "outputs": [
    {
     "data": {
      "image/png": "[encoded data removed]",
      "text/plain": [
       "<Figure size 640x480 with 1 Axes>"
      ]
     },
     "metadata": {},
     "output_type": "display_data"
    }
   ],
   "source": [
    "import matplotlib\n",
    "import matplotlib.pyplot as plt\n",
    "train_df.boxplot(column=\"Words per CrimeAditionalInfo\", by=\"category\")\n",
    "plt.xticks(rotation=90)\n",
    "plt.show()"
   ]
  },
  {
   "cell_type": "code",
   "execution_count": 194,
   "id": "d346fed3",
   "metadata": {},
   "outputs": [
    {
     "data": {
      "image/png": "[encoded data removed]",
      "text/plain": [
       "<Figure size 640x480 with 1 Axes>"
      ]
     },
     "metadata": {},
     "output_type": "display_data"
    }
   ],
   "source": [
    "import matplotlib\n",
    "import matplotlib.pyplot as plt\n",
    "train_df.boxplot(column=\"Words per CrimeAditionalInfo\", by=\"sub_category\")\n",
    "plt.xticks(rotation=90)\n",
    "plt.show()"
   ]
  },
  {
   "cell_type": "code",
   "execution_count": 195,
   "id": "3d0c2830",
   "metadata": {},
   "outputs": [
    {
     "data": {
      "text/plain": [
       "46"
      ]
     },
     "execution_count": 195,
     "metadata": {},
     "output_type": "execute_result"
    }
   ],
   "source": [
    "len(train_df.loc[0, \"crimeaditionalinfo\"].split())"
   ]
  },
  {
   "cell_type": "code",
   "execution_count": 196,
   "id": "70823ded-a720-460f-825b-9350180457e6",
   "metadata": {},
   "outputs": [
    {
     "data": {
      "text/plain": [
       "category                 0\n",
       "sub_category          2236\n",
       "crimeaditionalinfo       7\n",
       "dtype: int64"
      ]
     },
     "execution_count": 196,
     "metadata": {},
     "output_type": "execute_result"
    }
   ],
   "source": [
    "test_df.isnull().sum()"
   ]
  },
  {
   "cell_type": "code",
   "execution_count": 197,
   "id": "4ee6ad52-25ad-4c4c-972a-5386e490cc93",
   "metadata": {},
   "outputs": [
    {
     "data": {
      "text/html": [
       "<div>\n",
       "<style scoped>\n",
       "    .dataframe tbody tr th:only-of-type {\n",
       "        vertical-align: middle;\n",
       "    }\n",
       "\n",
       "    .dataframe tbody tr th {\n",
       "        vertical-align: top;\n",
       "    }\n",
       "\n",
       "    .dataframe thead th {\n",
       "        text-align: right;\n",
       "    }\n",
       "</style>\n",
       "<table border=\"1\" class=\"dataframe\">\n",
       "  <thead>\n",
       "    <tr style=\"text-align: right;\">\n",
       "      <th></th>\n",
       "      <th>category</th>\n",
       "      <th>sub_category</th>\n",
       "      <th>crimeaditionalinfo</th>\n",
       "    </tr>\n",
       "  </thead>\n",
       "  <tbody>\n",
       "    <tr>\n",
       "      <th>0</th>\n",
       "      <td>RapeGang Rape RGRSexually Abusive Content</td>\n",
       "      <td>NaN</td>\n",
       "      <td>Sir namaskar  mein Ranjit Kumar PatraPaise neh...</td>\n",
       "    </tr>\n",
       "    <tr>\n",
       "      <th>10</th>\n",
       "      <td>Sexually Explicit Act</td>\n",
       "      <td>NaN</td>\n",
       "      <td>Hello sir they are sending friend request and ...</td>\n",
       "    </tr>\n",
       "    <tr>\n",
       "      <th>12</th>\n",
       "      <td>Sexually Obscene material</td>\n",
       "      <td>NaN</td>\n",
       "      <td>He was called from Maharashtra and created fak...</td>\n",
       "    </tr>\n",
       "    <tr>\n",
       "      <th>25</th>\n",
       "      <td>Child Pornography CPChild Sexual Abuse Materia...</td>\n",
       "      <td>NaN</td>\n",
       "      <td>The above mentioned porn site contains some vi...</td>\n",
       "    </tr>\n",
       "    <tr>\n",
       "      <th>61</th>\n",
       "      <td>RapeGang Rape RGRSexually Abusive Content</td>\n",
       "      <td>NaN</td>\n",
       "      <td>Respected Sir\\r\\n\\r\\nA very serious matter I w...</td>\n",
       "    </tr>\n",
       "    <tr>\n",
       "      <th>...</th>\n",
       "      <td>...</td>\n",
       "      <td>...</td>\n",
       "      <td>...</td>\n",
       "    </tr>\n",
       "    <tr>\n",
       "      <th>31156</th>\n",
       "      <td>RapeGang Rape RGRSexually Abusive Content</td>\n",
       "      <td>NaN</td>\n",
       "      <td>Respected Sir\\r\\n\\r\\nA very serious matter I w...</td>\n",
       "    </tr>\n",
       "    <tr>\n",
       "      <th>31182</th>\n",
       "      <td>RapeGang Rape RGRSexually Abusive Content</td>\n",
       "      <td>NaN</td>\n",
       "      <td>Respected Sir\\r\\n\\r\\nA very serious matter I w...</td>\n",
       "    </tr>\n",
       "    <tr>\n",
       "      <th>31183</th>\n",
       "      <td>Sexually Explicit Act</td>\n",
       "      <td>NaN</td>\n",
       "      <td>Sir I have lost nearly  for a mistake I have m...</td>\n",
       "    </tr>\n",
       "    <tr>\n",
       "      <th>31191</th>\n",
       "      <td>Sexually Explicit Act</td>\n",
       "      <td>NaN</td>\n",
       "      <td>Im from chalakudy  this is a complaint about m...</td>\n",
       "    </tr>\n",
       "    <tr>\n",
       "      <th>31209</th>\n",
       "      <td>RapeGang Rape RGRSexually Abusive Content</td>\n",
       "      <td>NaN</td>\n",
       "      <td>Respected Sir\\r\\n\\r\\nA very serious matter I w...</td>\n",
       "    </tr>\n",
       "  </tbody>\n",
       "</table>\n",
       "<p>2242 rows × 3 columns</p>\n",
       "</div>"
      ],
      "text/plain": [
       "                                                category sub_category  \\\n",
       "0              RapeGang Rape RGRSexually Abusive Content          NaN   \n",
       "10                                 Sexually Explicit Act          NaN   \n",
       "12                             Sexually Obscene material          NaN   \n",
       "25     Child Pornography CPChild Sexual Abuse Materia...          NaN   \n",
       "61             RapeGang Rape RGRSexually Abusive Content          NaN   \n",
       "...                                                  ...          ...   \n",
       "31156          RapeGang Rape RGRSexually Abusive Content          NaN   \n",
       "31182          RapeGang Rape RGRSexually Abusive Content          NaN   \n",
       "31183                              Sexually Explicit Act          NaN   \n",
       "31191                              Sexually Explicit Act          NaN   \n",
       "31209          RapeGang Rape RGRSexually Abusive Content          NaN   \n",
       "\n",
       "                                      crimeaditionalinfo  \n",
       "0      Sir namaskar  mein Ranjit Kumar PatraPaise neh...  \n",
       "10     Hello sir they are sending friend request and ...  \n",
       "12     He was called from Maharashtra and created fak...  \n",
       "25     The above mentioned porn site contains some vi...  \n",
       "61     Respected Sir\\r\\n\\r\\nA very serious matter I w...  \n",
       "...                                                  ...  \n",
       "31156  Respected Sir\\r\\n\\r\\nA very serious matter I w...  \n",
       "31182  Respected Sir\\r\\n\\r\\nA very serious matter I w...  \n",
       "31183  Sir I have lost nearly  for a mistake I have m...  \n",
       "31191  Im from chalakudy  this is a complaint about m...  \n",
       "31209  Respected Sir\\r\\n\\r\\nA very serious matter I w...  \n",
       "\n",
       "[2242 rows x 3 columns]"
      ]
     },
     "execution_count": 197,
     "metadata": {},
     "output_type": "execute_result"
    }
   ],
   "source": [
    "test_df[test_df.isnull().any(axis=1)]"
   ]
  },
  {
   "cell_type": "code",
   "execution_count": 198,
   "id": "98c69690-0f6d-47b4-b993-9eb4fd1cb3c5",
   "metadata": {},
   "outputs": [],
   "source": [
    "test_df.dropna(inplace=True)"
   ]
  },
  {
   "cell_type": "code",
   "execution_count": 199,
   "id": "9a8be7ae-9033-427a-94b4-e0742ecb90c8",
   "metadata": {},
   "outputs": [
    {
     "data": {
      "text/plain": [
       "category              0\n",
       "sub_category          0\n",
       "crimeaditionalinfo    0\n",
       "dtype: int64"
      ]
     },
     "execution_count": 199,
     "metadata": {},
     "output_type": "execute_result"
    }
   ],
   "source": [
    "test_df.isnull().sum()"
   ]
  },
  {
   "cell_type": "code",
   "execution_count": 200,
   "id": "d7da9e53-ee47-4fb5-b5dc-85932feac09f",
   "metadata": {},
   "outputs": [
    {
     "data": {
      "text/html": [
       "<div>\n",
       "<style scoped>\n",
       "    .dataframe tbody tr th:only-of-type {\n",
       "        vertical-align: middle;\n",
       "    }\n",
       "\n",
       "    .dataframe tbody tr th {\n",
       "        vertical-align: top;\n",
       "    }\n",
       "\n",
       "    .dataframe thead th {\n",
       "        text-align: right;\n",
       "    }\n",
       "</style>\n",
       "<table border=\"1\" class=\"dataframe\">\n",
       "  <thead>\n",
       "    <tr style=\"text-align: right;\">\n",
       "      <th></th>\n",
       "      <th>category</th>\n",
       "      <th>sub_category</th>\n",
       "      <th>crimeaditionalinfo</th>\n",
       "    </tr>\n",
       "  </thead>\n",
       "  <tbody>\n",
       "    <tr>\n",
       "      <th>18052</th>\n",
       "      <td>Online Financial Fraud</td>\n",
       "      <td>UPI Related Frauds</td>\n",
       "      <td>\\r\\n  Dear sir\\r\\n        Please stop the frau...</td>\n",
       "    </tr>\n",
       "    <tr>\n",
       "      <th>19826</th>\n",
       "      <td>Online Financial Fraud</td>\n",
       "      <td>UPI Related Frauds</td>\n",
       "      <td>\\r\\n  Dear sir\\r\\n        Please stop the frau...</td>\n",
       "    </tr>\n",
       "    <tr>\n",
       "      <th>25792</th>\n",
       "      <td>Online Financial Fraud</td>\n",
       "      <td>UPI Related Frauds</td>\n",
       "      <td>\\r\\n  Dear sir\\r\\n        Please stop the frau...</td>\n",
       "    </tr>\n",
       "    <tr>\n",
       "      <th>12555</th>\n",
       "      <td>Online Financial Fraud</td>\n",
       "      <td>UPI Related Frauds</td>\n",
       "      <td>\\r\\n  Dear sir\\r\\n        Please stop the frau...</td>\n",
       "    </tr>\n",
       "    <tr>\n",
       "      <th>13606</th>\n",
       "      <td>Online Financial Fraud</td>\n",
       "      <td>UPI Related Frauds</td>\n",
       "      <td>\\r\\n  Dear sir\\r\\n        Please stop the frau...</td>\n",
       "    </tr>\n",
       "    <tr>\n",
       "      <th>...</th>\n",
       "      <td>...</td>\n",
       "      <td>...</td>\n",
       "      <td>...</td>\n",
       "    </tr>\n",
       "    <tr>\n",
       "      <th>5767</th>\n",
       "      <td>Online Financial Fraud</td>\n",
       "      <td>UPI Related Frauds</td>\n",
       "      <td>upi fraud total amount</td>\n",
       "    </tr>\n",
       "    <tr>\n",
       "      <th>17505</th>\n",
       "      <td>Online Financial Fraud</td>\n",
       "      <td>UPI Related Frauds</td>\n",
       "      <td>upi fraud total amount</td>\n",
       "    </tr>\n",
       "    <tr>\n",
       "      <th>19268</th>\n",
       "      <td>Online Financial Fraud</td>\n",
       "      <td>UPI Related Frauds</td>\n",
       "      <td>upi fraud total amount</td>\n",
       "    </tr>\n",
       "    <tr>\n",
       "      <th>22245</th>\n",
       "      <td>Online Financial Fraud</td>\n",
       "      <td>UPI Related Frauds</td>\n",
       "      <td>upi fraud total amount</td>\n",
       "    </tr>\n",
       "    <tr>\n",
       "      <th>29403</th>\n",
       "      <td>Online Financial Fraud</td>\n",
       "      <td>UPI Related Frauds</td>\n",
       "      <td>upi fraud total amount</td>\n",
       "    </tr>\n",
       "  </tbody>\n",
       "</table>\n",
       "<p>1299 rows × 3 columns</p>\n",
       "</div>"
      ],
      "text/plain": [
       "                     category        sub_category  \\\n",
       "18052  Online Financial Fraud  UPI Related Frauds   \n",
       "19826  Online Financial Fraud  UPI Related Frauds   \n",
       "25792  Online Financial Fraud  UPI Related Frauds   \n",
       "12555  Online Financial Fraud  UPI Related Frauds   \n",
       "13606  Online Financial Fraud  UPI Related Frauds   \n",
       "...                       ...                 ...   \n",
       "5767   Online Financial Fraud  UPI Related Frauds   \n",
       "17505  Online Financial Fraud  UPI Related Frauds   \n",
       "19268  Online Financial Fraud  UPI Related Frauds   \n",
       "22245  Online Financial Fraud  UPI Related Frauds   \n",
       "29403  Online Financial Fraud  UPI Related Frauds   \n",
       "\n",
       "                                      crimeaditionalinfo  \n",
       "18052  \\r\\n  Dear sir\\r\\n        Please stop the frau...  \n",
       "19826  \\r\\n  Dear sir\\r\\n        Please stop the frau...  \n",
       "25792  \\r\\n  Dear sir\\r\\n        Please stop the frau...  \n",
       "12555  \\r\\n  Dear sir\\r\\n        Please stop the frau...  \n",
       "13606  \\r\\n  Dear sir\\r\\n        Please stop the frau...  \n",
       "...                                                  ...  \n",
       "5767                             upi fraud total amount   \n",
       "17505                            upi fraud total amount   \n",
       "19268                            upi fraud total amount   \n",
       "22245                            upi fraud total amount   \n",
       "29403                           upi fraud total amount    \n",
       "\n",
       "[1299 rows x 3 columns]"
      ]
     },
     "execution_count": 200,
     "metadata": {},
     "output_type": "execute_result"
    }
   ],
   "source": [
    "test_df[test_df.duplicated()].sort_values(by=[\"crimeaditionalinfo\", \"sub_category\", \"category\"])"
   ]
  },
  {
   "cell_type": "code",
   "execution_count": 201,
   "id": "91927385-2ee1-4f0b-9cf7-2cf110e1214f",
   "metadata": {},
   "outputs": [],
   "source": [
    "import tiktoken\n",
    "from tiktoken import Encoding\n",
    "from pandas import DataFrame\n",
    "\n",
    "\n",
    "def calculate_number_of_tokens_from_row(text: str, model_name: str) -> int:\n",
    "    encoding: Encoding = tiktoken.encoding_for_model(model_name=model_name)\n",
    "    token_count: int = len(encoding.encode(text=text))\n",
    "    return token_count\n",
    "\n",
    "\n",
    "def calculate_number_of_tokens_from_df(df: DataFrame, col:str, model_name: str) -> int:\n",
    "    token_count: int = (\n",
    "        df[col]\n",
    "        .apply(\n",
    "            func=lambda x: calculate_number_of_tokens_from_row(\n",
    "                text=x, model_name=model_name\n",
    "            )\n",
    "        )\n",
    "        .sum()\n",
    "    )\n",
    "    return token_count"
   ]
  },
  {
   "cell_type": "code",
   "execution_count": 202,
   "id": "dbf62e62-5eb3-4c74-97fc-cbfe03b6160b",
   "metadata": {},
   "outputs": [
    {
     "data": {
      "text/plain": [
       "(82018, 4)"
      ]
     },
     "execution_count": 202,
     "metadata": {},
     "output_type": "execute_result"
    }
   ],
   "source": [
    "train_df.shape"
   ]
  },
  {
   "cell_type": "code",
   "execution_count": 203,
   "id": "d3ca3e45-9d9a-4c9c-aff1-cc3c1bb4a947",
   "metadata": {},
   "outputs": [
    {
     "data": {
      "text/plain": [
       "np.int64(7187315)"
      ]
     },
     "execution_count": 203,
     "metadata": {},
     "output_type": "execute_result"
    }
   ],
   "source": [
    "model_name = \"gpt-4o-mini-2024-07-18\"\n",
    "total_tokens: int = calculate_number_of_tokens_from_df(df=train_df, col=\"crimeaditionalinfo\", model_name=model_name)\n",
    "total_tokens"
   ]
  },
  {
   "cell_type": "code",
   "execution_count": 204,
   "id": "4d6d90ef-d77e-47c9-9b3a-6dbf14418ff3",
   "metadata": {},
   "outputs": [
    {
     "data": {
      "text/plain": [
       "np.int64(2428813)"
      ]
     },
     "execution_count": 204,
     "metadata": {},
     "output_type": "execute_result"
    }
   ],
   "source": [
    "model_name = \"gpt-4o-mini-2024-07-18\"\n",
    "total_tokens: int = calculate_number_of_tokens_from_df(df=test_df, col=\"crimeaditionalinfo\", model_name=model_name)\n",
    "total_tokens"
   ]
  },
  {
   "cell_type": "code",
   "execution_count": 205,
   "id": "fdae1d22-a488-4080-a1b5-5720e2ddbf6f",
   "metadata": {},
   "outputs": [
    {
     "data": {
      "text/plain": [
       "(28987, 3)"
      ]
     },
     "execution_count": 205,
     "metadata": {},
     "output_type": "execute_result"
    }
   ],
   "source": [
    "test_df.shape"
   ]
  },
  {
   "cell_type": "code",
   "execution_count": 206,
   "id": "7a81f489",
   "metadata": {},
   "outputs": [
    {
     "name": "stdout",
     "output_type": "stream",
     "text": [
      "<class 'pandas.core.frame.DataFrame'>\n",
      "Index: 82018 entries, 0 to 93685\n",
      "Data columns (total 4 columns):\n",
      " #   Column                        Non-Null Count  Dtype \n",
      "---  ------                        --------------  ----- \n",
      " 0   category                      82018 non-null  object\n",
      " 1   sub_category                  82018 non-null  object\n",
      " 2   crimeaditionalinfo            82018 non-null  object\n",
      " 3   Words per CrimeAditionalInfo  82018 non-null  int64 \n",
      "dtypes: int64(1), object(3)\n",
      "memory usage: 5.1+ MB\n"
     ]
    }
   ],
   "source": [
    "train_df.info()"
   ]
  },
  {
   "cell_type": "code",
   "execution_count": 207,
   "id": "29d3a5c8",
   "metadata": {},
   "outputs": [
    {
     "data": {
      "text/plain": [
       "category\n",
       "Online Financial Fraud                            64.005462\n",
       "Online and Social Media Related Crime             14.723597\n",
       "Any Other Cyber Crime                             13.181253\n",
       "Cyber Attack/ Dependent Crimes                     4.399034\n",
       "Hacking  Damage to computercomputer system etc     2.083689\n",
       "Cryptocurrency Crime                               0.576703\n",
       "Online Gambling  Betting                           0.541345\n",
       "Online Cyber Trafficking                           0.223122\n",
       "Cyber Terrorism                                    0.196298\n",
       "Ransomware                                         0.068278\n",
       "Report Unlawful Content                            0.001219\n",
       "Name: proportion, dtype: float64"
      ]
     },
     "execution_count": 207,
     "metadata": {},
     "output_type": "execute_result"
    }
   ],
   "source": [
    "train_df[\"category\"].value_counts(normalize=True, ascending=False) * 100"
   ]
  },
  {
   "cell_type": "code",
   "execution_count": 208,
   "id": "55a55bca",
   "metadata": {},
   "outputs": [
    {
     "data": {
      "text/plain": [
       "array(['Online and Social Media Related Crime', 'Online Financial Fraud',\n",
       "       'Online Gambling  Betting', 'Any Other Cyber Crime',\n",
       "       'Cyber Attack/ Dependent Crimes', 'Cryptocurrency Crime',\n",
       "       'Hacking  Damage to computercomputer system etc',\n",
       "       'Cyber Terrorism', 'Online Cyber Trafficking', 'Ransomware',\n",
       "       'Report Unlawful Content'], dtype=object)"
      ]
     },
     "execution_count": 208,
     "metadata": {},
     "output_type": "execute_result"
    }
   ],
   "source": [
    "train_df[\"category\"].unique()"
   ]
  },
  {
   "cell_type": "code",
   "execution_count": 209,
   "id": "55864728",
   "metadata": {},
   "outputs": [
    {
     "data": {
      "text/plain": [
       "array(['Cyber Bullying  Stalking  Sexting', 'Fraud CallVishing',\n",
       "       'Online Gambling  Betting', 'Online Job Fraud',\n",
       "       'UPI Related Frauds', 'Internet Banking Related Fraud', 'Other',\n",
       "       'Profile Hacking Identity Theft',\n",
       "       'DebitCredit Card FraudSim Swap Fraud', 'EWallet Related Fraud',\n",
       "       'Data Breach/Theft', 'Cheating by Impersonation',\n",
       "       'Denial of Service (DoS)/Distributed Denial of Service (DDOS) attacks',\n",
       "       'FakeImpersonating Profile', 'Cryptocurrency Fraud',\n",
       "       'Malware Attack', 'Business Email CompromiseEmail Takeover',\n",
       "       'Email Hacking', 'Hacking/Defacement',\n",
       "       'Unauthorised AccessData Breach', 'SQL Injection',\n",
       "       'Provocative Speech for unlawful acts', 'Ransomware Attack',\n",
       "       'Cyber Terrorism', 'Tampering with computer source documents',\n",
       "       'DematDepository Fraud', 'Online Trafficking',\n",
       "       'Online Matrimonial Fraud', 'Website DefacementHacking',\n",
       "       'Damage to computer computer systems etc', 'Impersonating Email',\n",
       "       'EMail Phishing', 'Ransomware', 'Intimidating Email',\n",
       "       'Against Interest of sovereignty or integrity of India'],\n",
       "      dtype=object)"
      ]
     },
     "execution_count": 209,
     "metadata": {},
     "output_type": "execute_result"
    }
   ],
   "source": [
    "train_df[\"sub_category\"].unique()"
   ]
  },
  {
   "cell_type": "code",
   "execution_count": 210,
   "id": "8d5e8cb5",
   "metadata": {},
   "outputs": [
    {
     "data": {
      "text/plain": [
       "sub_category\n",
       "UPI Related Frauds                                                      28.683947\n",
       "Other                                                                   13.181253\n",
       "DebitCredit Card FraudSim Swap Fraud                                    12.246092\n",
       "Internet Banking Related Fraud                                           9.871004\n",
       "Fraud CallVishing                                                        7.047234\n",
       "Cyber Bullying  Stalking  Sexting                                        4.939160\n",
       "EWallet Related Fraud                                                    4.886732\n",
       "FakeImpersonating Profile                                                2.790851\n",
       "Profile Hacking Identity Theft                                           2.523836\n",
       "Cheating by Impersonation                                                2.414104\n",
       "Unauthorised AccessData Breach                                           1.357019\n",
       "Online Job Fraud                                                         1.110732\n",
       "DematDepository Fraud                                                    0.916872\n",
       "Tampering with computer source documents                                 0.691312\n",
       "Hacking/Defacement                                                       0.658392\n",
       "Ransomware Attack                                                        0.651077\n",
       "Malware Attack                                                           0.635226\n",
       "SQL Injection                                                            0.619376\n",
       "Denial of Service (DoS)/Distributed Denial of Service (DDOS) attacks     0.614499\n",
       "Data Breach/Theft                                                        0.590114\n",
       "Cryptocurrency Fraud                                                     0.576703\n",
       "Online Gambling  Betting                                                 0.541345\n",
       "Provocative Speech for unlawful acts                                     0.503548\n",
       "Email Hacking                                                            0.425516\n",
       "Business Email CompromiseEmail Takeover                                  0.353581\n",
       "Online Trafficking                                                       0.223122\n",
       "Cyber Terrorism                                                          0.196298\n",
       "EMail Phishing                                                           0.191421\n",
       "Online Matrimonial Fraud                                                 0.160940\n",
       "Damage to computer computer systems etc                                  0.131678\n",
       "Website DefacementHacking                                                0.108513\n",
       "Ransomware                                                               0.068278\n",
       "Impersonating Email                                                      0.053647\n",
       "Intimidating Email                                                       0.035358\n",
       "Against Interest of sovereignty or integrity of India                    0.001219\n",
       "Name: proportion, dtype: float64"
      ]
     },
     "execution_count": 210,
     "metadata": {},
     "output_type": "execute_result"
    }
   ],
   "source": [
    "train_df[\"sub_category\"].value_counts(normalize=True, ascending=False) * 100"
   ]
  },
  {
   "cell_type": "code",
   "execution_count": 211,
   "id": "4038ac1e",
   "metadata": {},
   "outputs": [
    {
     "data": {
      "text/html": [
       "<div>\n",
       "<style scoped>\n",
       "    .dataframe tbody tr th:only-of-type {\n",
       "        vertical-align: middle;\n",
       "    }\n",
       "\n",
       "    .dataframe tbody tr th {\n",
       "        vertical-align: top;\n",
       "    }\n",
       "\n",
       "    .dataframe thead th {\n",
       "        text-align: right;\n",
       "    }\n",
       "</style>\n",
       "<table border=\"1\" class=\"dataframe\">\n",
       "  <thead>\n",
       "    <tr style=\"text-align: right;\">\n",
       "      <th></th>\n",
       "      <th>category</th>\n",
       "      <th>sub_category</th>\n",
       "      <th>crimeaditionalinfo</th>\n",
       "      <th>Words per CrimeAditionalInfo</th>\n",
       "    </tr>\n",
       "  </thead>\n",
       "  <tbody>\n",
       "    <tr>\n",
       "      <th>0</th>\n",
       "      <td>Online and Social Media Related Crime</td>\n",
       "      <td>Cyber Bullying  Stalking  Sexting</td>\n",
       "      <td>I had continue received random calls and abusi...</td>\n",
       "      <td>46</td>\n",
       "    </tr>\n",
       "    <tr>\n",
       "      <th>1</th>\n",
       "      <td>Online Financial Fraud</td>\n",
       "      <td>Fraud CallVishing</td>\n",
       "      <td>The above fraudster is continuously messaging ...</td>\n",
       "      <td>45</td>\n",
       "    </tr>\n",
       "    <tr>\n",
       "      <th>2</th>\n",
       "      <td>Online Gambling  Betting</td>\n",
       "      <td>Online Gambling  Betting</td>\n",
       "      <td>He is acting like a police and demanding for m...</td>\n",
       "      <td>40</td>\n",
       "    </tr>\n",
       "    <tr>\n",
       "      <th>3</th>\n",
       "      <td>Online and Social Media Related Crime</td>\n",
       "      <td>Online Job Fraud</td>\n",
       "      <td>In apna Job I have applied for job interview f...</td>\n",
       "      <td>98</td>\n",
       "    </tr>\n",
       "    <tr>\n",
       "      <th>4</th>\n",
       "      <td>Online Financial Fraud</td>\n",
       "      <td>Fraud CallVishing</td>\n",
       "      <td>I received a call from lady stating that she w...</td>\n",
       "      <td>37</td>\n",
       "    </tr>\n",
       "  </tbody>\n",
       "</table>\n",
       "</div>"
      ],
      "text/plain": [
       "                                category                       sub_category  \\\n",
       "0  Online and Social Media Related Crime  Cyber Bullying  Stalking  Sexting   \n",
       "1                 Online Financial Fraud                  Fraud CallVishing   \n",
       "2               Online Gambling  Betting           Online Gambling  Betting   \n",
       "3  Online and Social Media Related Crime                   Online Job Fraud   \n",
       "4                 Online Financial Fraud                  Fraud CallVishing   \n",
       "\n",
       "                                  crimeaditionalinfo  \\\n",
       "0  I had continue received random calls and abusi...   \n",
       "1  The above fraudster is continuously messaging ...   \n",
       "2  He is acting like a police and demanding for m...   \n",
       "3  In apna Job I have applied for job interview f...   \n",
       "4  I received a call from lady stating that she w...   \n",
       "\n",
       "   Words per CrimeAditionalInfo  \n",
       "0                            46  \n",
       "1                            45  \n",
       "2                            40  \n",
       "3                            98  \n",
       "4                            37  "
      ]
     },
     "execution_count": 211,
     "metadata": {},
     "output_type": "execute_result"
    }
   ],
   "source": [
    "train_df.shape\n",
    "train_df.head()"
   ]
  },
  {
   "cell_type": "code",
   "execution_count": null,
   "id": "cf943bd6",
   "metadata": {},
   "outputs": [],
   "source": []
  },
  {
   "cell_type": "code",
   "execution_count": 212,
   "id": "5a7155e4-fea8-4e8b-ad50-6caaa722056c",
   "metadata": {},
   "outputs": [
    {
     "data": {
      "text/html": [
       "<div>\n",
       "<style scoped>\n",
       "    .dataframe tbody tr th:only-of-type {\n",
       "        vertical-align: middle;\n",
       "    }\n",
       "\n",
       "    .dataframe tbody tr th {\n",
       "        vertical-align: top;\n",
       "    }\n",
       "\n",
       "    .dataframe thead th {\n",
       "        text-align: right;\n",
       "    }\n",
       "</style>\n",
       "<table border=\"1\" class=\"dataframe\">\n",
       "  <thead>\n",
       "    <tr style=\"text-align: right;\">\n",
       "      <th></th>\n",
       "      <th>category</th>\n",
       "      <th>sub_category</th>\n",
       "      <th>crimeaditionalinfo</th>\n",
       "      <th>Words per CrimeAditionalInfo</th>\n",
       "    </tr>\n",
       "  </thead>\n",
       "  <tbody>\n",
       "    <tr>\n",
       "      <th>0</th>\n",
       "      <td>Online and Social Media Related Crime</td>\n",
       "      <td>Cyber Bullying  Stalking  Sexting</td>\n",
       "      <td>I had continue received random calls and abusi...</td>\n",
       "      <td>46</td>\n",
       "    </tr>\n",
       "    <tr>\n",
       "      <th>1</th>\n",
       "      <td>Online Financial Fraud</td>\n",
       "      <td>Fraud CallVishing</td>\n",
       "      <td>The above fraudster is continuously messaging ...</td>\n",
       "      <td>45</td>\n",
       "    </tr>\n",
       "    <tr>\n",
       "      <th>2</th>\n",
       "      <td>Online Gambling  Betting</td>\n",
       "      <td>Online Gambling  Betting</td>\n",
       "      <td>He is acting like a police and demanding for m...</td>\n",
       "      <td>40</td>\n",
       "    </tr>\n",
       "    <tr>\n",
       "      <th>3</th>\n",
       "      <td>Online and Social Media Related Crime</td>\n",
       "      <td>Online Job Fraud</td>\n",
       "      <td>In apna Job I have applied for job interview f...</td>\n",
       "      <td>98</td>\n",
       "    </tr>\n",
       "    <tr>\n",
       "      <th>4</th>\n",
       "      <td>Online Financial Fraud</td>\n",
       "      <td>Fraud CallVishing</td>\n",
       "      <td>I received a call from lady stating that she w...</td>\n",
       "      <td>37</td>\n",
       "    </tr>\n",
       "    <tr>\n",
       "      <th>...</th>\n",
       "      <td>...</td>\n",
       "      <td>...</td>\n",
       "      <td>...</td>\n",
       "      <td>...</td>\n",
       "    </tr>\n",
       "    <tr>\n",
       "      <th>93681</th>\n",
       "      <td>Online Financial Fraud</td>\n",
       "      <td>Internet Banking Related Fraud</td>\n",
       "      <td>Identity theft   Smishing SMS Fraud  CreditDeb...</td>\n",
       "      <td>42</td>\n",
       "    </tr>\n",
       "    <tr>\n",
       "      <th>93682</th>\n",
       "      <td>Online Financial Fraud</td>\n",
       "      <td>EWallet Related Fraud</td>\n",
       "      <td>RECEIVED CALL FROM  NUMBER ASKING ABOUT phone ...</td>\n",
       "      <td>34</td>\n",
       "    </tr>\n",
       "    <tr>\n",
       "      <th>93683</th>\n",
       "      <td>Online Financial Fraud</td>\n",
       "      <td>UPI Related Frauds</td>\n",
       "      <td>Cyber Stalking   Blackmailing   PhoneSMSVOIP C...</td>\n",
       "      <td>33</td>\n",
       "    </tr>\n",
       "    <tr>\n",
       "      <th>93684</th>\n",
       "      <td>Online and Social Media Related Crime</td>\n",
       "      <td>Online Matrimonial Fraud</td>\n",
       "      <td>Call karke bola ki aapka lotary laga ha aru AC...</td>\n",
       "      <td>48</td>\n",
       "    </tr>\n",
       "    <tr>\n",
       "      <th>93685</th>\n",
       "      <td>Online Financial Fraud</td>\n",
       "      <td>Fraud CallVishing</td>\n",
       "      <td>There is app name koko loan app they send the ...</td>\n",
       "      <td>50</td>\n",
       "    </tr>\n",
       "  </tbody>\n",
       "</table>\n",
       "<p>82018 rows × 4 columns</p>\n",
       "</div>"
      ],
      "text/plain": [
       "                                    category  \\\n",
       "0      Online and Social Media Related Crime   \n",
       "1                     Online Financial Fraud   \n",
       "2                   Online Gambling  Betting   \n",
       "3      Online and Social Media Related Crime   \n",
       "4                     Online Financial Fraud   \n",
       "...                                      ...   \n",
       "93681                 Online Financial Fraud   \n",
       "93682                 Online Financial Fraud   \n",
       "93683                 Online Financial Fraud   \n",
       "93684  Online and Social Media Related Crime   \n",
       "93685                 Online Financial Fraud   \n",
       "\n",
       "                            sub_category  \\\n",
       "0      Cyber Bullying  Stalking  Sexting   \n",
       "1                      Fraud CallVishing   \n",
       "2               Online Gambling  Betting   \n",
       "3                       Online Job Fraud   \n",
       "4                      Fraud CallVishing   \n",
       "...                                  ...   \n",
       "93681     Internet Banking Related Fraud   \n",
       "93682              EWallet Related Fraud   \n",
       "93683                 UPI Related Frauds   \n",
       "93684           Online Matrimonial Fraud   \n",
       "93685                  Fraud CallVishing   \n",
       "\n",
       "                                      crimeaditionalinfo  \\\n",
       "0      I had continue received random calls and abusi...   \n",
       "1      The above fraudster is continuously messaging ...   \n",
       "2      He is acting like a police and demanding for m...   \n",
       "3      In apna Job I have applied for job interview f...   \n",
       "4      I received a call from lady stating that she w...   \n",
       "...                                                  ...   \n",
       "93681  Identity theft   Smishing SMS Fraud  CreditDeb...   \n",
       "93682  RECEIVED CALL FROM  NUMBER ASKING ABOUT phone ...   \n",
       "93683  Cyber Stalking   Blackmailing   PhoneSMSVOIP C...   \n",
       "93684  Call karke bola ki aapka lotary laga ha aru AC...   \n",
       "93685  There is app name koko loan app they send the ...   \n",
       "\n",
       "       Words per CrimeAditionalInfo  \n",
       "0                                46  \n",
       "1                                45  \n",
       "2                                40  \n",
       "3                                98  \n",
       "4                                37  \n",
       "...                             ...  \n",
       "93681                            42  \n",
       "93682                            34  \n",
       "93683                            33  \n",
       "93684                            48  \n",
       "93685                            50  \n",
       "\n",
       "[82018 rows x 4 columns]"
      ]
     },
     "execution_count": 212,
     "metadata": {},
     "output_type": "execute_result"
    }
   ],
   "source": [
    "train_df"
   ]
  },
  {
   "cell_type": "code",
   "execution_count": 213,
   "id": "038e05cb",
   "metadata": {},
   "outputs": [],
   "source": [
    "# from pandas.core.frame import DataFrame\n",
    "\n",
    "# category: DataFrame = train_df[[\"category\", \"crimeaditionalinfo\"]]\n",
    "# category.to_csv(path_or_buf=\"category_train.csv\", index=False)\n",
    "\n",
    "# subcategory: DataFrame = train_df[[\"sub_category\", \"crimeaditionalinfo\"]]\n",
    "# subcategory.to_csv(path_or_buf=\"subcategory_train.csv\", index=False)"
   ]
  },
  {
   "cell_type": "code",
   "execution_count": 214,
   "id": "ab74a5f6",
   "metadata": {},
   "outputs": [
    {
     "data": {
      "text/html": [
       "<div>\n",
       "<style scoped>\n",
       "    .dataframe tbody tr th:only-of-type {\n",
       "        vertical-align: middle;\n",
       "    }\n",
       "\n",
       "    .dataframe tbody tr th {\n",
       "        vertical-align: top;\n",
       "    }\n",
       "\n",
       "    .dataframe thead th {\n",
       "        text-align: right;\n",
       "    }\n",
       "</style>\n",
       "<table border=\"1\" class=\"dataframe\">\n",
       "  <thead>\n",
       "    <tr style=\"text-align: right;\">\n",
       "      <th></th>\n",
       "      <th>category</th>\n",
       "      <th>sub_category</th>\n",
       "      <th>crimeaditionalinfo</th>\n",
       "    </tr>\n",
       "  </thead>\n",
       "  <tbody>\n",
       "    <tr>\n",
       "      <th>1</th>\n",
       "      <td>Online Financial Fraud</td>\n",
       "      <td>DebitCredit Card FraudSim Swap Fraud</td>\n",
       "      <td>KOTAK MAHINDRA BANK FRAUD\\r\\nFRAUD AMOUNT</td>\n",
       "    </tr>\n",
       "    <tr>\n",
       "      <th>2</th>\n",
       "      <td>Cyber Attack/ Dependent Crimes</td>\n",
       "      <td>SQL Injection</td>\n",
       "      <td>The issue actually started when I got this ema...</td>\n",
       "    </tr>\n",
       "    <tr>\n",
       "      <th>3</th>\n",
       "      <td>Online Financial Fraud</td>\n",
       "      <td>Fraud CallVishing</td>\n",
       "      <td>I am amit kumar from karwi chitrakoot I am tot...</td>\n",
       "    </tr>\n",
       "    <tr>\n",
       "      <th>4</th>\n",
       "      <td>Any Other Cyber Crime</td>\n",
       "      <td>Other</td>\n",
       "      <td>I have ordered  saree and  blouse from rinki s...</td>\n",
       "    </tr>\n",
       "    <tr>\n",
       "      <th>5</th>\n",
       "      <td>Online Financial Fraud</td>\n",
       "      <td>Internet Banking Related Fraud</td>\n",
       "      <td>My salary of amount  has to be credited to my ...</td>\n",
       "    </tr>\n",
       "    <tr>\n",
       "      <th>...</th>\n",
       "      <td>...</td>\n",
       "      <td>...</td>\n",
       "      <td>...</td>\n",
       "    </tr>\n",
       "    <tr>\n",
       "      <th>31224</th>\n",
       "      <td>Online and Social Media Related Crime</td>\n",
       "      <td>Online Matrimonial Fraud</td>\n",
       "      <td>A lady named Rashmi probably a fake name had c...</td>\n",
       "    </tr>\n",
       "    <tr>\n",
       "      <th>31225</th>\n",
       "      <td>Online Financial Fraud</td>\n",
       "      <td>Internet Banking Related Fraud</td>\n",
       "      <td>I am Mr Chokhe Ram  Two pers mobile number wer...</td>\n",
       "    </tr>\n",
       "    <tr>\n",
       "      <th>31226</th>\n",
       "      <td>Any Other Cyber Crime</td>\n",
       "      <td>Other</td>\n",
       "      <td>Mai Bibekbraj maine pahle ki complain kar chuk...</td>\n",
       "    </tr>\n",
       "    <tr>\n",
       "      <th>31227</th>\n",
       "      <td>Online Financial Fraud</td>\n",
       "      <td>Internet Banking Related Fraud</td>\n",
       "      <td>received URL link for updating KYC from mobile...</td>\n",
       "    </tr>\n",
       "    <tr>\n",
       "      <th>31228</th>\n",
       "      <td>Any Other Cyber Crime</td>\n",
       "      <td>Other</td>\n",
       "      <td>I saw add on facebook for job placement and I ...</td>\n",
       "    </tr>\n",
       "  </tbody>\n",
       "</table>\n",
       "<p>28987 rows × 3 columns</p>\n",
       "</div>"
      ],
      "text/plain": [
       "                                    category  \\\n",
       "1                     Online Financial Fraud   \n",
       "2             Cyber Attack/ Dependent Crimes   \n",
       "3                     Online Financial Fraud   \n",
       "4                      Any Other Cyber Crime   \n",
       "5                     Online Financial Fraud   \n",
       "...                                      ...   \n",
       "31224  Online and Social Media Related Crime   \n",
       "31225                 Online Financial Fraud   \n",
       "31226                  Any Other Cyber Crime   \n",
       "31227                 Online Financial Fraud   \n",
       "31228                  Any Other Cyber Crime   \n",
       "\n",
       "                               sub_category  \\\n",
       "1      DebitCredit Card FraudSim Swap Fraud   \n",
       "2                             SQL Injection   \n",
       "3                         Fraud CallVishing   \n",
       "4                                     Other   \n",
       "5            Internet Banking Related Fraud   \n",
       "...                                     ...   \n",
       "31224              Online Matrimonial Fraud   \n",
       "31225        Internet Banking Related Fraud   \n",
       "31226                                 Other   \n",
       "31227        Internet Banking Related Fraud   \n",
       "31228                                 Other   \n",
       "\n",
       "                                      crimeaditionalinfo  \n",
       "1              KOTAK MAHINDRA BANK FRAUD\\r\\nFRAUD AMOUNT  \n",
       "2      The issue actually started when I got this ema...  \n",
       "3      I am amit kumar from karwi chitrakoot I am tot...  \n",
       "4      I have ordered  saree and  blouse from rinki s...  \n",
       "5      My salary of amount  has to be credited to my ...  \n",
       "...                                                  ...  \n",
       "31224  A lady named Rashmi probably a fake name had c...  \n",
       "31225  I am Mr Chokhe Ram  Two pers mobile number wer...  \n",
       "31226  Mai Bibekbraj maine pahle ki complain kar chuk...  \n",
       "31227  received URL link for updating KYC from mobile...  \n",
       "31228  I saw add on facebook for job placement and I ...  \n",
       "\n",
       "[28987 rows x 3 columns]"
      ]
     },
     "execution_count": 214,
     "metadata": {},
     "output_type": "execute_result"
    }
   ],
   "source": [
    "test_df"
   ]
  },
  {
   "cell_type": "code",
   "execution_count": 215,
   "id": "1b61922b",
   "metadata": {},
   "outputs": [],
   "source": [
    "# category_test: DataFrame = test_df[[\"category\", \"crimeaditionalinfo\"]] \n",
    "# category_test.to_csv(path_or_buf=\"category_test.csv\", index=False)\n",
    "\n",
    "# subcategory_test: DataFrame = test_df[[\"sub_category\", \"crimeaditionalinfo\"]] \n",
    "# subcategory_test.to_csv(path_or_buf=\"subcategory_test.csv\", index=False)"
   ]
  },
  {
   "cell_type": "code",
   "execution_count": 216,
   "id": "dcfe32b4",
   "metadata": {},
   "outputs": [],
   "source": [
    "# pd.read_csv(\"./subcategory_test.csv\")"
   ]
  },
  {
   "cell_type": "markdown",
   "id": "88a65c9b",
   "metadata": {},
   "source": [
    "## Group Categories"
   ]
  },
  {
   "cell_type": "code",
   "execution_count": 217,
   "id": "7c5b440c",
   "metadata": {},
   "outputs": [],
   "source": [
    "# Create a mapping dictionary to group the categories\n",
    "category_mapping: dict[str, str] = {\n",
    "    'Online and Social Media Related Crime': 'Women/Child Related Crime',\n",
    "    'Online Financial Fraud': 'Financial Fraud Crimes',\n",
    "    'Online Gambling  Betting': 'Other Cyber Crime',\n",
    "    'Any Other Cyber Crime': 'Other Cyber Crime', \n",
    "    'Cyber Attack/ Dependent Crimes': 'Other Cyber Crime',\n",
    "    'Cryptocurrency Crime': 'Other Cyber Crime',\n",
    "    'Hacking  Damage to computercomputer system etc': 'Other Cyber Crime',\n",
    "    'Cyber Terrorism': 'Other Cyber Crime',\n",
    "    'Online Cyber Trafficking': 'Women/Child Related Crime',\n",
    "    'Ransomware': 'Other Cyber Crime',\n",
    "    'Report Unlawful Content': 'Women/Child Related Crime'\n",
    "}\n",
    "\n",
    "# Apply the mapping to the 'category' column\n",
    "train_df['category'] = train_df['category'].map(arg=category_mapping)"
   ]
  },
  {
   "cell_type": "code",
   "execution_count": 218,
   "id": "16bcb417",
   "metadata": {},
   "outputs": [
    {
     "data": {
      "text/plain": [
       "category\n",
       "Financial Fraud Crimes       0.640055\n",
       "Other Cyber Crime            0.210466\n",
       "Women/Child Related Crime    0.149479\n",
       "Name: proportion, dtype: float64"
      ]
     },
     "execution_count": 218,
     "metadata": {},
     "output_type": "execute_result"
    }
   ],
   "source": [
    "train_df.category.value_counts(normalize=True, ascending=False)"
   ]
  },
  {
   "cell_type": "code",
   "execution_count": 219,
   "id": "ae86264d",
   "metadata": {},
   "outputs": [
    {
     "data": {
      "text/plain": [
       "(82018, 4)"
      ]
     },
     "execution_count": 219,
     "metadata": {},
     "output_type": "execute_result"
    }
   ],
   "source": [
    "train_df.shape"
   ]
  },
  {
   "cell_type": "code",
   "execution_count": 220,
   "id": "63a70e3b",
   "metadata": {},
   "outputs": [
    {
     "data": {
      "text/plain": [
       "category\n",
       "Financial Fraud Crimes       0.651761\n",
       "Other Cyber Crime            0.203326\n",
       "Women/Child Related Crime    0.144913\n",
       "Name: proportion, dtype: float64"
      ]
     },
     "execution_count": 220,
     "metadata": {},
     "output_type": "execute_result"
    }
   ],
   "source": [
    "test_df['category'] = test_df['category'].map(arg=category_mapping)\n",
    "test_df.category.value_counts(normalize=True, ascending=False)"
   ]
  },
  {
   "cell_type": "code",
   "execution_count": 221,
   "id": "e79916e7",
   "metadata": {},
   "outputs": [
    {
     "data": {
      "text/plain": [
       "(28987, 3)"
      ]
     },
     "execution_count": 221,
     "metadata": {},
     "output_type": "execute_result"
    }
   ],
   "source": [
    "test_df.shape"
   ]
  },
  {
   "cell_type": "code",
   "execution_count": 222,
   "id": "0882b4b3",
   "metadata": {},
   "outputs": [
    {
     "data": {
      "text/plain": [
       "category              4\n",
       "sub_category          0\n",
       "crimeaditionalinfo    0\n",
       "dtype: int64"
      ]
     },
     "execution_count": 222,
     "metadata": {},
     "output_type": "execute_result"
    }
   ],
   "source": [
    "test_df.isnull().sum()"
   ]
  },
  {
   "cell_type": "code",
   "execution_count": 224,
   "id": "34da25f4",
   "metadata": {},
   "outputs": [],
   "source": [
    "test_df.dropna(inplace=True)"
   ]
  },
  {
   "cell_type": "code",
   "execution_count": 225,
   "id": "664e3f00",
   "metadata": {},
   "outputs": [],
   "source": [
    "train_df[[\"category\", \"crimeaditionalinfo\"]].to_csv(path_or_buf=\"category_train.csv\", index=False)\n",
    "test_df[[\"category\", \"crimeaditionalinfo\"]].to_csv(path_or_buf=\"category_test.csv\", index=False)"
   ]
  },
  {
   "cell_type": "code",
   "execution_count": null,
   "id": "55ff55ec",
   "metadata": {},
   "outputs": [
    {
     "data": {
      "text/html": [
       "<div>\n",
       "<style scoped>\n",
       "    .dataframe tbody tr th:only-of-type {\n",
       "        vertical-align: middle;\n",
       "    }\n",
       "\n",
       "    .dataframe tbody tr th {\n",
       "        vertical-align: top;\n",
       "    }\n",
       "\n",
       "    .dataframe thead th {\n",
       "        text-align: right;\n",
       "    }\n",
       "</style>\n",
       "<table border=\"1\" class=\"dataframe\">\n",
       "  <thead>\n",
       "    <tr style=\"text-align: right;\">\n",
       "      <th></th>\n",
       "      <th>category</th>\n",
       "      <th>sub_category</th>\n",
       "      <th>crimeaditionalinfo</th>\n",
       "      <th>Words per CrimeAditionalInfo</th>\n",
       "    </tr>\n",
       "  </thead>\n",
       "  <tbody>\n",
       "    <tr>\n",
       "      <th>0</th>\n",
       "      <td>Women/Child Related Crime</td>\n",
       "      <td>Cyber Bullying  Stalking  Sexting</td>\n",
       "      <td>I had continue received random calls and abusi...</td>\n",
       "      <td>46</td>\n",
       "    </tr>\n",
       "    <tr>\n",
       "      <th>1</th>\n",
       "      <td>Financial Fraud Crimes</td>\n",
       "      <td>Fraud CallVishing</td>\n",
       "      <td>The above fraudster is continuously messaging ...</td>\n",
       "      <td>45</td>\n",
       "    </tr>\n",
       "    <tr>\n",
       "      <th>2</th>\n",
       "      <td>Other Cyber Crime</td>\n",
       "      <td>Online Gambling  Betting</td>\n",
       "      <td>He is acting like a police and demanding for m...</td>\n",
       "      <td>40</td>\n",
       "    </tr>\n",
       "    <tr>\n",
       "      <th>3</th>\n",
       "      <td>Women/Child Related Crime</td>\n",
       "      <td>Online Job Fraud</td>\n",
       "      <td>In apna Job I have applied for job interview f...</td>\n",
       "      <td>98</td>\n",
       "    </tr>\n",
       "    <tr>\n",
       "      <th>4</th>\n",
       "      <td>Financial Fraud Crimes</td>\n",
       "      <td>Fraud CallVishing</td>\n",
       "      <td>I received a call from lady stating that she w...</td>\n",
       "      <td>37</td>\n",
       "    </tr>\n",
       "    <tr>\n",
       "      <th>...</th>\n",
       "      <td>...</td>\n",
       "      <td>...</td>\n",
       "      <td>...</td>\n",
       "      <td>...</td>\n",
       "    </tr>\n",
       "    <tr>\n",
       "      <th>93681</th>\n",
       "      <td>Financial Fraud Crimes</td>\n",
       "      <td>Internet Banking Related Fraud</td>\n",
       "      <td>Identity theft   Smishing SMS Fraud  CreditDeb...</td>\n",
       "      <td>42</td>\n",
       "    </tr>\n",
       "    <tr>\n",
       "      <th>93682</th>\n",
       "      <td>Financial Fraud Crimes</td>\n",
       "      <td>EWallet Related Fraud</td>\n",
       "      <td>RECEIVED CALL FROM  NUMBER ASKING ABOUT phone ...</td>\n",
       "      <td>34</td>\n",
       "    </tr>\n",
       "    <tr>\n",
       "      <th>93683</th>\n",
       "      <td>Financial Fraud Crimes</td>\n",
       "      <td>UPI Related Frauds</td>\n",
       "      <td>Cyber Stalking   Blackmailing   PhoneSMSVOIP C...</td>\n",
       "      <td>33</td>\n",
       "    </tr>\n",
       "    <tr>\n",
       "      <th>93684</th>\n",
       "      <td>Women/Child Related Crime</td>\n",
       "      <td>Online Matrimonial Fraud</td>\n",
       "      <td>Call karke bola ki aapka lotary laga ha aru AC...</td>\n",
       "      <td>48</td>\n",
       "    </tr>\n",
       "    <tr>\n",
       "      <th>93685</th>\n",
       "      <td>Financial Fraud Crimes</td>\n",
       "      <td>Fraud CallVishing</td>\n",
       "      <td>There is app name koko loan app they send the ...</td>\n",
       "      <td>50</td>\n",
       "    </tr>\n",
       "  </tbody>\n",
       "</table>\n",
       "<p>82018 rows × 4 columns</p>\n",
       "</div>"
      ],
      "text/plain": [
       "                        category                       sub_category  \\\n",
       "0      Women/Child Related Crime  Cyber Bullying  Stalking  Sexting   \n",
       "1         Financial Fraud Crimes                  Fraud CallVishing   \n",
       "2              Other Cyber Crime           Online Gambling  Betting   \n",
       "3      Women/Child Related Crime                   Online Job Fraud   \n",
       "4         Financial Fraud Crimes                  Fraud CallVishing   \n",
       "...                          ...                                ...   \n",
       "93681     Financial Fraud Crimes     Internet Banking Related Fraud   \n",
       "93682     Financial Fraud Crimes              EWallet Related Fraud   \n",
       "93683     Financial Fraud Crimes                 UPI Related Frauds   \n",
       "93684  Women/Child Related Crime           Online Matrimonial Fraud   \n",
       "93685     Financial Fraud Crimes                  Fraud CallVishing   \n",
       "\n",
       "                                      crimeaditionalinfo  \\\n",
       "0      I had continue received random calls and abusi...   \n",
       "1      The above fraudster is continuously messaging ...   \n",
       "2      He is acting like a police and demanding for m...   \n",
       "3      In apna Job I have applied for job interview f...   \n",
       "4      I received a call from lady stating that she w...   \n",
       "...                                                  ...   \n",
       "93681  Identity theft   Smishing SMS Fraud  CreditDeb...   \n",
       "93682  RECEIVED CALL FROM  NUMBER ASKING ABOUT phone ...   \n",
       "93683  Cyber Stalking   Blackmailing   PhoneSMSVOIP C...   \n",
       "93684  Call karke bola ki aapka lotary laga ha aru AC...   \n",
       "93685  There is app name koko loan app they send the ...   \n",
       "\n",
       "       Words per CrimeAditionalInfo  \n",
       "0                                46  \n",
       "1                                45  \n",
       "2                                40  \n",
       "3                                98  \n",
       "4                                37  \n",
       "...                             ...  \n",
       "93681                            42  \n",
       "93682                            34  \n",
       "93683                            33  \n",
       "93684                            48  \n",
       "93685                            50  \n",
       "\n",
       "[82018 rows x 4 columns]"
      ]
     },
     "execution_count": 161,
     "metadata": {},
     "output_type": "execute_result"
    }
   ],
   "source": [
    "from pandas.core.frame import DataFrame\n",
    "\n",
    "category: DataFrame = train_df[[\"category\", \"crimeaditionalinfo\"]]\n",
    "category.to_csv(path_or_buf=\"category_train.csv\", index=False)\n",
    "\n",
    "subcategory: DataFrame = train_df[[\"sub_category\", \"crimeaditionalinfo\"]]\n",
    "subcategory.to_csv(path_or_buf=\"subcategory_train.csv\", index=False)"
   ]
  },
  {
   "cell_type": "code",
   "execution_count": null,
   "id": "17243d74",
   "metadata": {},
   "outputs": [
    {
     "data": {
      "text/plain": [
       "category              0\n",
       "crimeaditionalinfo    0\n",
       "dtype: int64"
      ]
     },
     "execution_count": 164,
     "metadata": {},
     "output_type": "execute_result"
    }
   ],
   "source": []
  },
  {
   "cell_type": "code",
   "execution_count": null,
   "id": "5b8d3328",
   "metadata": {},
   "outputs": [],
   "source": [
    "# # Create a mapping dictionary to group the sub-categories\n",
    "# sub_category_mapping: dict[str, str] = {\n",
    "#     'Rape/Gang Rape-Sexually Abusive Content': 'Women/Child Related Crime',\n",
    "#     'Sale, Publishing and Transmitting Obscene Material/Sexually Explicit Material': 'Women/Child Related Crime',\n",
    "#     'Debit/Credit Card Fraud': 'Financial Fraud Crimes',\n",
    "#     'SIM Swap Fraud': 'Financial Fraud Crimes', \n",
    "#     'Internet Banking-Related Fraud': 'Financial Fraud Crimes',\n",
    "#     'Business Email Compromise/Email Takeover': 'Financial Fraud Crimes',\n",
    "#     'E-Wallet Related Frauds': 'Financial Fraud Crimes',\n",
    "#     'Fraud Call/Vishing': 'Financial Fraud Crimes',\n",
    "#     'Demat/Depository Fraud': 'Financial Fraud Crimes',\n",
    "#     'UPI-Related Frauds': 'Financial Fraud Crimes',\n",
    "#     'Aadhaar Enabled Payment System (AEPS) Fraud': 'Financial Fraud Crimes',\n",
    "#     'Email Phishing': 'Other Cyber Crime',\n",
    "#     'Cheating by Impersonation': 'Other Cyber Crime',\n",
    "#     'Fake/Impersonating Profile': 'Other Cyber Crime',\n",
    "#     'Profile Hacking/Identity Theft': 'Other Cyber Crime',\n",
    "#     'Provocative Speech of Unlawful Acts': 'Other Cyber Crime',\n",
    "#     'Impersonating Email': 'Other Cyber Crime',\n",
    "#     'Intimidating Email': 'Other Cyber Crime',\n",
    "#     'Online Job Fraud': 'Other Cyber Crime',\n",
    "#     'Online Matrimonial Fraud': 'Other Cyber Crime',\n",
    "#     'Cyber Bullying/Stalking/Sexting': 'Women/Child Related Crime',\n",
    "#     'Email Hacking': 'Other Cyber Crime',\n",
    "#     'Damage to Computer Systems': 'Other Cyber Crime',\n",
    "#     'Tampering with Computer Source Documents': 'Other Cyber Crime',\n",
    "#     'Defacement/Hacking': 'Other Cyber Crime',\n",
    "#     'Unauthorized Access/Data Breach': 'Other Cyber Crime',\n",
    "#     'Online Cyber Trafficking': 'Women/Child Related Crime',\n",
    "#     'Online Gambling/Betting Fraud': 'Other Cyber Crime',\n",
    "#     'Ransomware': 'Other Cyber Crime',\n",
    "#     'Cryptocurrency Crime': 'Other Cyber Crime',\n",
    "#     'Cyber Terrorism': 'Other Cyber Crime',\n",
    "#     'Any Other Cyber Crime': 'Other Cyber Crime',\n",
    "#     'Targeted scanning/probing of critical networks/systems': 'Other Cyber Crime',\n",
    "#     'Compromise of critical systems/information': 'Other Cyber Crime',\n",
    "#     'Unauthorised access to IT systems/data': 'Other Cyber Crime',\n",
    "#     'Defacement of websites or unauthorized changes, such as inserting malicious code or external links': 'Other Cyber Crime',\n",
    "#     'Malicious code attacks (e.g., virus, worm, Trojan, Bots, Spyware, Ransomware, Crypto miners)': 'Other Cyber Crime',\n",
    "#     'Attacks on servers (Database, Mail, DNS) and network devices (Routers)': 'Other Cyber Crime',\n",
    "#     'Identity theft, spoofing, and phishing attacks': 'Other Cyber Crime',\n",
    "#     'Denial of Service (DoS) and Distributed Denial of Service (DDoS) attacks': 'Other Cyber Crime'\n",
    "# }\n",
    "\n",
    "# # Apply the mapping to the 'sub_category' column\n",
    "# train_df['sub_category'] = train_df['sub_category'].map(sub_category_mapping)"
   ]
  },
  {
   "cell_type": "code",
   "execution_count": 169,
   "id": "ef2c4fe6",
   "metadata": {},
   "outputs": [
    {
     "data": {
      "text/plain": [
       "sub_category\n",
       "Other Cyber Crime    3662\n",
       "Name: count, dtype: int64"
      ]
     },
     "execution_count": 169,
     "metadata": {},
     "output_type": "execute_result"
    }
   ],
   "source": [
    "train_df[\"sub_category\"].value_counts()"
   ]
  },
  {
   "cell_type": "code",
   "execution_count": 111,
   "id": "25394181",
   "metadata": {},
   "outputs": [
    {
     "name": "stdout",
     "output_type": "stream",
     "text": [
      "[nan]\n"
     ]
    }
   ],
   "source": [
    "# Create a new 'classification' column that combines category and sub-category\n",
    "train_df['classification'] = train_df['category'] + ' - ' + train_df['sub_category']\n",
    "\n",
    "# Print the unique classification values\n",
    "print(train_df['classification'].unique())"
   ]
  },
  {
   "cell_type": "code",
   "execution_count": 226,
   "id": "cedde617",
   "metadata": {},
   "outputs": [
    {
     "data": {
      "text/html": [
       "<div>\n",
       "<style scoped>\n",
       "    .dataframe tbody tr th:only-of-type {\n",
       "        vertical-align: middle;\n",
       "    }\n",
       "\n",
       "    .dataframe tbody tr th {\n",
       "        vertical-align: top;\n",
       "    }\n",
       "\n",
       "    .dataframe thead th {\n",
       "        text-align: right;\n",
       "    }\n",
       "</style>\n",
       "<table border=\"1\" class=\"dataframe\">\n",
       "  <thead>\n",
       "    <tr style=\"text-align: right;\">\n",
       "      <th></th>\n",
       "      <th>category</th>\n",
       "      <th>sub_category</th>\n",
       "      <th>crimeaditionalinfo</th>\n",
       "      <th>Words per CrimeAditionalInfo</th>\n",
       "    </tr>\n",
       "  </thead>\n",
       "  <tbody>\n",
       "    <tr>\n",
       "      <th>0</th>\n",
       "      <td>Women/Child Related Crime</td>\n",
       "      <td>Cyber Bullying  Stalking  Sexting</td>\n",
       "      <td>I had continue received random calls and abusi...</td>\n",
       "      <td>46</td>\n",
       "    </tr>\n",
       "    <tr>\n",
       "      <th>1</th>\n",
       "      <td>Financial Fraud Crimes</td>\n",
       "      <td>Fraud CallVishing</td>\n",
       "      <td>The above fraudster is continuously messaging ...</td>\n",
       "      <td>45</td>\n",
       "    </tr>\n",
       "    <tr>\n",
       "      <th>2</th>\n",
       "      <td>Other Cyber Crime</td>\n",
       "      <td>Online Gambling  Betting</td>\n",
       "      <td>He is acting like a police and demanding for m...</td>\n",
       "      <td>40</td>\n",
       "    </tr>\n",
       "    <tr>\n",
       "      <th>3</th>\n",
       "      <td>Women/Child Related Crime</td>\n",
       "      <td>Online Job Fraud</td>\n",
       "      <td>In apna Job I have applied for job interview f...</td>\n",
       "      <td>98</td>\n",
       "    </tr>\n",
       "    <tr>\n",
       "      <th>4</th>\n",
       "      <td>Financial Fraud Crimes</td>\n",
       "      <td>Fraud CallVishing</td>\n",
       "      <td>I received a call from lady stating that she w...</td>\n",
       "      <td>37</td>\n",
       "    </tr>\n",
       "  </tbody>\n",
       "</table>\n",
       "</div>"
      ],
      "text/plain": [
       "                    category                       sub_category  \\\n",
       "0  Women/Child Related Crime  Cyber Bullying  Stalking  Sexting   \n",
       "1     Financial Fraud Crimes                  Fraud CallVishing   \n",
       "2          Other Cyber Crime           Online Gambling  Betting   \n",
       "3  Women/Child Related Crime                   Online Job Fraud   \n",
       "4     Financial Fraud Crimes                  Fraud CallVishing   \n",
       "\n",
       "                                  crimeaditionalinfo  \\\n",
       "0  I had continue received random calls and abusi...   \n",
       "1  The above fraudster is continuously messaging ...   \n",
       "2  He is acting like a police and demanding for m...   \n",
       "3  In apna Job I have applied for job interview f...   \n",
       "4  I received a call from lady stating that she w...   \n",
       "\n",
       "   Words per CrimeAditionalInfo  \n",
       "0                            46  \n",
       "1                            45  \n",
       "2                            40  \n",
       "3                            98  \n",
       "4                            37  "
      ]
     },
     "execution_count": 226,
     "metadata": {},
     "output_type": "execute_result"
    }
   ],
   "source": [
    "train_df.head()"
   ]
  },
  {
   "cell_type": "code",
   "execution_count": 227,
   "id": "334e5592",
   "metadata": {},
   "outputs": [
    {
     "data": {
      "text/plain": [
       "category\n",
       "Financial Fraud Crimes       52496\n",
       "Other Cyber Crime            17262\n",
       "Women/Child Related Crime    12260\n",
       "Name: count, dtype: int64"
      ]
     },
     "execution_count": 227,
     "metadata": {},
     "output_type": "execute_result"
    }
   ],
   "source": [
    "train_df[\"category\"].value_counts()"
   ]
  },
  {
   "cell_type": "code",
   "execution_count": 228,
   "id": "0e08b852",
   "metadata": {},
   "outputs": [
    {
     "data": {
      "text/plain": [
       "sub_category\n",
       "UPI Related Frauds                                                      23526\n",
       "Other                                                                   10811\n",
       "DebitCredit Card FraudSim Swap Fraud                                    10044\n",
       "Internet Banking Related Fraud                                           8096\n",
       "Fraud CallVishing                                                        5780\n",
       "Cyber Bullying  Stalking  Sexting                                        4051\n",
       "EWallet Related Fraud                                                    4008\n",
       "FakeImpersonating Profile                                                2289\n",
       "Profile Hacking Identity Theft                                           2070\n",
       "Cheating by Impersonation                                                1980\n",
       "Unauthorised AccessData Breach                                           1113\n",
       "Online Job Fraud                                                          911\n",
       "DematDepository Fraud                                                     752\n",
       "Tampering with computer source documents                                  567\n",
       "Hacking/Defacement                                                        540\n",
       "Ransomware Attack                                                         534\n",
       "Malware Attack                                                            521\n",
       "SQL Injection                                                             508\n",
       "Denial of Service (DoS)/Distributed Denial of Service (DDOS) attacks      504\n",
       "Data Breach/Theft                                                         484\n",
       "Cryptocurrency Fraud                                                      473\n",
       "Online Gambling  Betting                                                  444\n",
       "Provocative Speech for unlawful acts                                      413\n",
       "Email Hacking                                                             349\n",
       "Business Email CompromiseEmail Takeover                                   290\n",
       "Online Trafficking                                                        183\n",
       "Cyber Terrorism                                                           161\n",
       "EMail Phishing                                                            157\n",
       "Online Matrimonial Fraud                                                  132\n",
       "Damage to computer computer systems etc                                   108\n",
       "Website DefacementHacking                                                  89\n",
       "Ransomware                                                                 56\n",
       "Impersonating Email                                                        44\n",
       "Intimidating Email                                                         29\n",
       "Against Interest of sovereignty or integrity of India                       1\n",
       "Name: count, dtype: int64"
      ]
     },
     "execution_count": 228,
     "metadata": {},
     "output_type": "execute_result"
    }
   ],
   "source": [
    "train_df[\"sub_category\"].value_counts()"
   ]
  },
  {
   "cell_type": "code",
   "execution_count": 230,
   "id": "7f2a1ec1",
   "metadata": {},
   "outputs": [
    {
     "data": {
      "text/plain": [
       "category\n",
       "Financial Fraud Crimes       18890\n",
       "Other Cyber Crime             5893\n",
       "Women/Child Related Crime     4200\n",
       "Name: count, dtype: int64"
      ]
     },
     "execution_count": 230,
     "metadata": {},
     "output_type": "execute_result"
    }
   ],
   "source": [
    "test_df[\"category\"].value_counts()"
   ]
  },
  {
   "cell_type": "code",
   "execution_count": 231,
   "id": "5f2a6812",
   "metadata": {},
   "outputs": [
    {
     "data": {
      "text/plain": [
       "sub_category\n",
       "UPI Related Frauds                                                      8886\n",
       "Other                                                                   3670\n",
       "DebitCredit Card FraudSim Swap Fraud                                    3555\n",
       "Internet Banking Related Fraud                                          2973\n",
       "Fraud CallVishing                                                       1826\n",
       "Cyber Bullying  Stalking  Sexting                                       1366\n",
       "EWallet Related Fraud                                                   1338\n",
       "FakeImpersonating Profile                                                763\n",
       "Profile Hacking Identity Theft                                           751\n",
       "Cheating by Impersonation                                                719\n",
       "Unauthorised AccessData Breach                                           370\n",
       "Online Job Fraud                                                         294\n",
       "DematDepository Fraud                                                    222\n",
       "Hacking/Defacement                                                       200\n",
       "Tampering with computer source documents                                 194\n",
       "Denial of Service (DoS)/Distributed Denial of Service (DDOS) attacks     187\n",
       "Ransomware Attack                                                        186\n",
       "Data Breach/Theft                                                        171\n",
       "Malware Attack                                                           170\n",
       "SQL Injection                                                            167\n",
       "Cryptocurrency Fraud                                                     166\n",
       "Online Gambling  Betting                                                 134\n",
       "Email Hacking                                                            130\n",
       "Provocative Speech for unlawful acts                                     130\n",
       "Business Email CompromiseEmail Takeover                                   90\n",
       "Online Trafficking                                                        61\n",
       "EMail Phishing                                                            54\n",
       "Cyber Terrorism                                                           52\n",
       "Damage to computer computer systems etc                                   39\n",
       "Website DefacementHacking                                                 39\n",
       "Online Matrimonial Fraud                                                  38\n",
       "Ransomware                                                                18\n",
       "Impersonating Email                                                       13\n",
       "Intimidating Email                                                        11\n",
       "Name: count, dtype: int64"
      ]
     },
     "execution_count": 231,
     "metadata": {},
     "output_type": "execute_result"
    }
   ],
   "source": [
    "test_df[\"sub_category\"].value_counts()"
   ]
  },
  {
   "cell_type": "code",
   "execution_count": 232,
   "id": "4842fc63",
   "metadata": {},
   "outputs": [],
   "source": [
    "train_df.to_csv(\"train_clean.csv\", index=False)\n",
    "test_df.to_csv(\"test_clean.csv\", index=False)"
   ]
  },
  {
   "cell_type": "code",
   "execution_count": 237,
   "id": "d36fb54f",
   "metadata": {},
   "outputs": [
    {
     "data": {
      "text/plain": [
       "sub_category\n",
       "UPI Related Frauds                                                      23526\n",
       "Other                                                                   10811\n",
       "DebitCredit Card FraudSim Swap Fraud                                    10044\n",
       "Internet Banking Related Fraud                                           8096\n",
       "Fraud CallVishing                                                        5780\n",
       "Cyber Bullying  Stalking  Sexting                                        4051\n",
       "EWallet Related Fraud                                                    4008\n",
       "FakeImpersonating Profile                                                2289\n",
       "Profile Hacking Identity Theft                                           2070\n",
       "Cheating by Impersonation                                                1980\n",
       "Unauthorised AccessData Breach                                           1113\n",
       "Online Job Fraud                                                          911\n",
       "DematDepository Fraud                                                     752\n",
       "Tampering with computer source documents                                  567\n",
       "Hacking/Defacement                                                        540\n",
       "Ransomware Attack                                                         534\n",
       "Malware Attack                                                            521\n",
       "SQL Injection                                                             508\n",
       "Denial of Service (DoS)/Distributed Denial of Service (DDOS) attacks      504\n",
       "Data Breach/Theft                                                         484\n",
       "Cryptocurrency Fraud                                                      473\n",
       "Online Gambling  Betting                                                  444\n",
       "Provocative Speech for unlawful acts                                      413\n",
       "Email Hacking                                                             349\n",
       "Business Email CompromiseEmail Takeover                                   290\n",
       "Name: count, dtype: int64"
      ]
     },
     "execution_count": 237,
     "metadata": {},
     "output_type": "execute_result"
    }
   ],
   "source": [
    "train_df[\"sub_category\"].value_counts()[:25]"
   ]
  },
  {
   "cell_type": "code",
   "execution_count": 238,
   "id": "1f6ba86b",
   "metadata": {},
   "outputs": [
    {
     "data": {
      "text/plain": [
       "sub_category\n",
       "Online Trafficking                                       183\n",
       "Cyber Terrorism                                          161\n",
       "EMail Phishing                                           157\n",
       "Online Matrimonial Fraud                                 132\n",
       "Damage to computer computer systems etc                  108\n",
       "Website DefacementHacking                                 89\n",
       "Ransomware                                                56\n",
       "Impersonating Email                                       44\n",
       "Intimidating Email                                        29\n",
       "Against Interest of sovereignty or integrity of India      1\n",
       "Name: count, dtype: int64"
      ]
     },
     "execution_count": 238,
     "metadata": {},
     "output_type": "execute_result"
    }
   ],
   "source": [
    "train_df[\"sub_category\"].value_counts()[25:]"
   ]
  },
  {
   "cell_type": "code",
   "execution_count": null,
   "id": "1f026dcb",
   "metadata": {},
   "outputs": [],
   "source": [
    "# # Implementing the merging logic in the DataFrame\n",
    "# # Define a mapping dictionary to merge the lower count categories into higher count ones\n",
    "# merge_mapping = {\n",
    "#     'Online Trafficking': 'Online Job Fraud',\n",
    "#     'Cyber Terrorism': 'Denial of Service (DoS)/Distributed Denial of Service (DDOS) attacks',\n",
    "#     'EMail Phishing': 'Fraud CallVishing',\n",
    "#     'Online Matrimonial Fraud': 'Cheating by Impersonation',\n",
    "#     'Damage to computer computer systems etc': 'Tampering with computer source documents',\n",
    "#     'Website DefacementHacking': 'Hacking/Defacement',\n",
    "#     'Ransomware': 'Ransomware Attack',\n",
    "#     'Impersonating Email': 'Email Hacking',\n",
    "#     'Intimidating Email': 'Email Hacking',\n",
    "#     'Against Interest of sovereignty or integrity of India': 'Denial of Service (DoS)/Distributed Denial of Service (DDOS) attacks'\n",
    "# }\n",
    "\n",
    "# # Apply the mapping to merge categories\n",
    "# train_df['sub_category'] = train_df['sub_category'].replace(merge_mapping)\n",
    "\n",
    "# # Re-compute the value counts after merging\n",
    "# merged_value_counts = train_df['sub_category'].value_counts()\n",
    "\n",
    "\n"
   ]
  },
  {
   "cell_type": "code",
   "execution_count": 241,
   "id": "a8ff0639",
   "metadata": {},
   "outputs": [
    {
     "data": {
      "text/plain": [
       "sub_category\n",
       "UPI Related Frauds                                                      23526\n",
       "Other                                                                   10811\n",
       "DebitCredit Card FraudSim Swap Fraud                                    10044\n",
       "Internet Banking Related Fraud                                           8096\n",
       "Fraud CallVishing                                                        5937\n",
       "Cyber Bullying  Stalking  Sexting                                        4051\n",
       "EWallet Related Fraud                                                    4008\n",
       "FakeImpersonating Profile                                                2289\n",
       "Cheating by Impersonation                                                2112\n",
       "Profile Hacking Identity Theft                                           2070\n",
       "Unauthorised AccessData Breach                                           1113\n",
       "Online Job Fraud                                                         1094\n",
       "DematDepository Fraud                                                     752\n",
       "Tampering with computer source documents                                  675\n",
       "Denial of Service (DoS)/Distributed Denial of Service (DDOS) attacks      666\n",
       "Hacking/Defacement                                                        629\n",
       "Ransomware Attack                                                         590\n",
       "Malware Attack                                                            521\n",
       "SQL Injection                                                             508\n",
       "Data Breach/Theft                                                         484\n",
       "Cryptocurrency Fraud                                                      473\n",
       "Online Gambling  Betting                                                  444\n",
       "Email Hacking                                                             422\n",
       "Provocative Speech for unlawful acts                                      413\n",
       "Business Email CompromiseEmail Takeover                                   290\n",
       "Name: count, dtype: int64"
      ]
     },
     "execution_count": 241,
     "metadata": {},
     "output_type": "execute_result"
    }
   ],
   "source": [
    "merged_value_counts"
   ]
  },
  {
   "cell_type": "code",
   "execution_count": 242,
   "id": "25098b5a",
   "metadata": {},
   "outputs": [],
   "source": [
    "# Updating the merging logic to combine all classes with counts less than 1000 into those with counts >= 1000\n",
    "# Re-defining the mapping dictionary with the new criteria\n",
    "\n",
    "# Define categories with counts >= 1000\n",
    "high_count_categories = {\n",
    "    'UPI Related Frauds': 23526,\n",
    "    'Other': 10811,\n",
    "    'DebitCredit Card FraudSim Swap Fraud': 10044,\n",
    "    'Internet Banking Related Fraud': 8096,\n",
    "    'Fraud CallVishing': 5780,\n",
    "    'Cyber Bullying Stalking Sexting': 4051,\n",
    "    'EWallet Related Fraud': 4008,\n",
    "    'FakeImpersonating Profile': 2289,\n",
    "    'Profile Hacking Identity Theft': 2070,\n",
    "    'Cheating by Impersonation': 1980,\n",
    "    'Unauthorised AccessData Breach': 1113\n",
    "}\n",
    "\n",
    "# Defining the revised merging logic for subcategories with counts < 1000\n",
    "merge_mapping_revised = {\n",
    "    # Merging similar themes with higher count categories\n",
    "    'Online Job Fraud': 'Unauthorised AccessData Breach',\n",
    "    'DematDepository Fraud': 'FakeImpersonating Profile',\n",
    "    'Tampering with computer source documents': 'Cheating by Impersonation',\n",
    "    'Hacking/Defacement': 'Profile Hacking Identity Theft',\n",
    "    'Ransomware Attack': 'Fraud CallVishing',\n",
    "    'Malware Attack': 'Cyber Bullying Stalking Sexting',\n",
    "    'SQL Injection': 'Internet Banking Related Fraud',\n",
    "    'Denial of Service (DoS)/Distributed Denial of Service (DDOS) attacks': 'Internet Banking Related Fraud',\n",
    "    'Data Breach/Theft': 'Unauthorised AccessData Breach',\n",
    "    'Cryptocurrency Fraud': 'DebitCredit Card FraudSim Swap Fraud',\n",
    "    'Online Gambling Betting': 'EWallet Related Fraud',\n",
    "    'Provocative Speech for unlawful acts': 'Cyber Bullying Stalking Sexting',\n",
    "    'Email Hacking': 'Fraud CallVishing',\n",
    "    'Business Email CompromiseEmail Takeover': 'Fraud CallVishing',\n",
    "    'Online Trafficking': 'Unauthorised AccessData Breach',\n",
    "    'Cyber Terrorism': 'Profile Hacking Identity Theft',\n",
    "    'EMail Phishing': 'Fraud CallVishing',\n",
    "    'Online Matrimonial Fraud': 'Cheating by Impersonation',\n",
    "    'Damage to computer computer systems etc': 'Tampering with computer source documents',\n",
    "    'Website DefacementHacking': 'Hacking/Defacement',\n",
    "    'Ransomware': 'Fraud CallVishing',\n",
    "    'Impersonating Email': 'Email Hacking',\n",
    "    'Intimidating Email': 'Email Hacking',\n",
    "    'Against Interest of sovereignty or integrity of India': 'Profile Hacking Identity Theft'\n",
    "}\n",
    "\n",
    "# Apply the revised mapping to merge categories\n",
    "train_df['sub_category'] = train_df['sub_category'].replace(merge_mapping_revised)\n",
    "\n",
    "# Re-compute the value counts after revised merging\n",
    "revised_value_counts = train_df['sub_category'].value_counts()\n"
   ]
  },
  {
   "cell_type": "code",
   "execution_count": 243,
   "id": "b3a30e55",
   "metadata": {},
   "outputs": [
    {
     "data": {
      "text/plain": [
       "sub_category\n",
       "UPI Related Frauds                      23526\n",
       "Other                                   10811\n",
       "DebitCredit Card FraudSim Swap Fraud    10517\n",
       "Internet Banking Related Fraud           9270\n",
       "Fraud CallVishing                        7239\n",
       "Cyber Bullying  Stalking  Sexting        4051\n",
       "EWallet Related Fraud                    4008\n",
       "FakeImpersonating Profile                3041\n",
       "Cheating by Impersonation                2787\n",
       "Profile Hacking Identity Theft           2699\n",
       "Unauthorised AccessData Breach           2691\n",
       "Cyber Bullying Stalking Sexting           934\n",
       "Online Gambling  Betting                  444\n",
       "Name: count, dtype: int64"
      ]
     },
     "execution_count": 243,
     "metadata": {},
     "output_type": "execute_result"
    }
   ],
   "source": [
    "revised_value_counts"
   ]
  },
  {
   "cell_type": "code",
   "execution_count": null,
   "id": "56d9b5d7",
   "metadata": {},
   "outputs": [],
   "source": []
  }
 ],
 "metadata": {
  "kernelspec": {
   "display_name": ".venv",
   "language": "python",
   "name": "python3"
  },
  "language_info": {
   "codemirror_mode": {
    "name": "ipython",
    "version": 3
   },
   "file_extension": ".py",
   "mimetype": "text/x-python",
   "name": "python",
   "nbconvert_exporter": "python",
   "pygments_lexer": "ipython3",
   "version": "3.12.4"
  },
  "widgets": {
   "application/vnd.jupyter.widget-state+json": {
    "state": {},
    "version_major": 2,
    "version_minor": 0
   }
  }
 },
 "nbformat": 4,
 "nbformat_minor": 5
}
